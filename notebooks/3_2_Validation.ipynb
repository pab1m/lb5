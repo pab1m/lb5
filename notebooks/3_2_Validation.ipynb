{
 "cells": [
  {
   "cell_type": "code",
   "execution_count": 1,
   "metadata": {
    "executionInfo": {
     "elapsed": 335,
     "status": "ok",
     "timestamp": 1678578097515,
     "user": {
      "displayName": "Ольга Нарушинська",
      "userId": "17109802701742785659"
     },
     "user_tz": -120
    },
    "id": "blrnLdArwUA5"
   },
   "outputs": [],
   "source": [
    "import pandas as pd\n",
    "import numpy as np\n",
    "import matplotlib.pyplot as plt\n",
    "import seaborn as sns\n",
    "from scipy import stats\n",
    "from sklearn.ensemble import RandomForestClassifier\n",
    "from sklearn.linear_model import LogisticRegression\n",
    "from sklearn.neighbors import KNeighborsClassifier\n",
    "from sklearn import metrics\n",
    "from sklearn.model_selection import train_test_split"
   ]
  },
  {
   "cell_type": "code",
   "execution_count": 2,
   "metadata": {
    "executionInfo": {
     "elapsed": 3,
     "status": "ok",
     "timestamp": 1678578099517,
     "user": {
      "displayName": "Ольга Нарушинська",
      "userId": "17109802701742785659"
     },
     "user_tz": -120
    },
    "id": "VtRzMlMswUA7"
   },
   "outputs": [],
   "source": [
    "import warnings\n",
    "warnings.simplefilter('ignore')"
   ]
  },
  {
   "cell_type": "code",
   "execution_count": 3,
   "metadata": {
    "executionInfo": {
     "elapsed": 4,
     "status": "ok",
     "timestamp": 1678578099518,
     "user": {
      "displayName": "Ольга Нарушинська",
      "userId": "17109802701742785659"
     },
     "user_tz": -120
    },
    "id": "SUeHgUDTwUA7"
   },
   "outputs": [],
   "source": [
    "pd.set_option('display.max_columns', 500)\n",
    "pd.set_option('display.max_rows', 500)"
   ]
  },
  {
   "cell_type": "markdown",
   "metadata": {
    "id": "Te8s5u4KwUA8"
   },
   "source": [
    "### Read the dataset for churn "
   ]
  },
  {
   "cell_type": "code",
   "execution_count": 4,
   "metadata": {
    "executionInfo": {
     "elapsed": 455,
     "status": "ok",
     "timestamp": 1678578100973,
     "user": {
      "displayName": "Ольга Нарушинська",
      "userId": "17109802701742785659"
     },
     "user_tz": -120
    },
    "id": "D9jl8L4AwUA9"
   },
   "outputs": [],
   "source": [
    "df = pd.read_csv(\"new_variant_1.csv\")"
   ]
  },
  {
   "cell_type": "code",
   "execution_count": 5,
   "metadata": {
    "scrolled": true
   },
   "outputs": [
    {
     "data": {
      "text/html": [
       "<div>\n",
       "<style scoped>\n",
       "    .dataframe tbody tr th:only-of-type {\n",
       "        vertical-align: middle;\n",
       "    }\n",
       "\n",
       "    .dataframe tbody tr th {\n",
       "        vertical-align: top;\n",
       "    }\n",
       "\n",
       "    .dataframe thead th {\n",
       "        text-align: right;\n",
       "    }\n",
       "</style>\n",
       "<table border=\"1\" class=\"dataframe\">\n",
       "  <thead>\n",
       "    <tr style=\"text-align: right;\">\n",
       "      <th></th>\n",
       "      <th>ID</th>\n",
       "      <th>loan_limit</th>\n",
       "      <th>Gender</th>\n",
       "      <th>approv_in_adv</th>\n",
       "      <th>loan_type</th>\n",
       "      <th>loan_purpose</th>\n",
       "      <th>Credit_Worthiness</th>\n",
       "      <th>open_credit</th>\n",
       "      <th>business_or_commercial</th>\n",
       "      <th>loan_amount</th>\n",
       "      <th>rate_of_interest</th>\n",
       "      <th>Interest_rate_spread</th>\n",
       "      <th>Upfront_charges</th>\n",
       "      <th>term</th>\n",
       "      <th>Neg_ammortization</th>\n",
       "      <th>interest_only</th>\n",
       "      <th>lump_sum_payment</th>\n",
       "      <th>property_value</th>\n",
       "      <th>construction_type</th>\n",
       "      <th>occupancy_type</th>\n",
       "      <th>Secured_by</th>\n",
       "      <th>total_units</th>\n",
       "      <th>income</th>\n",
       "      <th>credit_type</th>\n",
       "      <th>Credit_Score</th>\n",
       "      <th>co-applicant_credit_type</th>\n",
       "      <th>age</th>\n",
       "      <th>submission_of_application</th>\n",
       "      <th>LTV</th>\n",
       "      <th>Region</th>\n",
       "      <th>Security_Type</th>\n",
       "      <th>Status</th>\n",
       "    </tr>\n",
       "  </thead>\n",
       "  <tbody>\n",
       "    <tr>\n",
       "      <th>0</th>\n",
       "      <td>24890</td>\n",
       "      <td>0</td>\n",
       "      <td>3</td>\n",
       "      <td>0</td>\n",
       "      <td>0</td>\n",
       "      <td>0</td>\n",
       "      <td>0</td>\n",
       "      <td>0</td>\n",
       "      <td>1</td>\n",
       "      <td>-1.238773</td>\n",
       "      <td>4.045968</td>\n",
       "      <td>0.446221</td>\n",
       "      <td>-0.001005</td>\n",
       "      <td>360.0</td>\n",
       "      <td>1</td>\n",
       "      <td>1</td>\n",
       "      <td>1</td>\n",
       "      <td>-1.390294</td>\n",
       "      <td>1</td>\n",
       "      <td>1</td>\n",
       "      <td>0</td>\n",
       "      <td>0</td>\n",
       "      <td>-1.274916</td>\n",
       "      <td>3</td>\n",
       "      <td>758</td>\n",
       "      <td>0</td>\n",
       "      <td>2</td>\n",
       "      <td>1</td>\n",
       "      <td>98.728814</td>\n",
       "      <td>3</td>\n",
       "      <td>1</td>\n",
       "      <td>1</td>\n",
       "    </tr>\n",
       "    <tr>\n",
       "      <th>1</th>\n",
       "      <td>24891</td>\n",
       "      <td>0</td>\n",
       "      <td>2</td>\n",
       "      <td>0</td>\n",
       "      <td>1</td>\n",
       "      <td>0</td>\n",
       "      <td>0</td>\n",
       "      <td>0</td>\n",
       "      <td>0</td>\n",
       "      <td>-0.696280</td>\n",
       "      <td>4.045968</td>\n",
       "      <td>0.446221</td>\n",
       "      <td>-0.001005</td>\n",
       "      <td>360.0</td>\n",
       "      <td>1</td>\n",
       "      <td>1</td>\n",
       "      <td>0</td>\n",
       "      <td>-0.001274</td>\n",
       "      <td>1</td>\n",
       "      <td>1</td>\n",
       "      <td>0</td>\n",
       "      <td>0</td>\n",
       "      <td>-0.391089</td>\n",
       "      <td>2</td>\n",
       "      <td>552</td>\n",
       "      <td>1</td>\n",
       "      <td>5</td>\n",
       "      <td>1</td>\n",
       "      <td>73.134888</td>\n",
       "      <td>0</td>\n",
       "      <td>1</td>\n",
       "      <td>1</td>\n",
       "    </tr>\n",
       "    <tr>\n",
       "      <th>2</th>\n",
       "      <td>24892</td>\n",
       "      <td>0</td>\n",
       "      <td>2</td>\n",
       "      <td>1</td>\n",
       "      <td>0</td>\n",
       "      <td>0</td>\n",
       "      <td>0</td>\n",
       "      <td>0</td>\n",
       "      <td>1</td>\n",
       "      <td>0.509260</td>\n",
       "      <td>4.560000</td>\n",
       "      <td>0.200000</td>\n",
       "      <td>-0.990868</td>\n",
       "      <td>360.0</td>\n",
       "      <td>0</td>\n",
       "      <td>1</td>\n",
       "      <td>1</td>\n",
       "      <td>0.161969</td>\n",
       "      <td>1</td>\n",
       "      <td>1</td>\n",
       "      <td>0</td>\n",
       "      <td>0</td>\n",
       "      <td>0.836448</td>\n",
       "      <td>3</td>\n",
       "      <td>834</td>\n",
       "      <td>0</td>\n",
       "      <td>2</td>\n",
       "      <td>1</td>\n",
       "      <td>80.019685</td>\n",
       "      <td>3</td>\n",
       "      <td>1</td>\n",
       "      <td>0</td>\n",
       "    </tr>\n",
       "    <tr>\n",
       "      <th>3</th>\n",
       "      <td>24893</td>\n",
       "      <td>0</td>\n",
       "      <td>2</td>\n",
       "      <td>0</td>\n",
       "      <td>0</td>\n",
       "      <td>3</td>\n",
       "      <td>0</td>\n",
       "      <td>0</td>\n",
       "      <td>1</td>\n",
       "      <td>0.810645</td>\n",
       "      <td>4.250000</td>\n",
       "      <td>0.681000</td>\n",
       "      <td>-0.001005</td>\n",
       "      <td>360.0</td>\n",
       "      <td>1</td>\n",
       "      <td>1</td>\n",
       "      <td>1</td>\n",
       "      <td>0.758993</td>\n",
       "      <td>1</td>\n",
       "      <td>1</td>\n",
       "      <td>0</td>\n",
       "      <td>0</td>\n",
       "      <td>1.491135</td>\n",
       "      <td>3</td>\n",
       "      <td>587</td>\n",
       "      <td>0</td>\n",
       "      <td>4</td>\n",
       "      <td>0</td>\n",
       "      <td>69.376900</td>\n",
       "      <td>0</td>\n",
       "      <td>1</td>\n",
       "      <td>0</td>\n",
       "    </tr>\n",
       "    <tr>\n",
       "      <th>4</th>\n",
       "      <td>24894</td>\n",
       "      <td>0</td>\n",
       "      <td>1</td>\n",
       "      <td>1</td>\n",
       "      <td>0</td>\n",
       "      <td>0</td>\n",
       "      <td>0</td>\n",
       "      <td>0</td>\n",
       "      <td>1</td>\n",
       "      <td>2.257294</td>\n",
       "      <td>4.000000</td>\n",
       "      <td>0.304200</td>\n",
       "      <td>-1.220701</td>\n",
       "      <td>360.0</td>\n",
       "      <td>1</td>\n",
       "      <td>1</td>\n",
       "      <td>1</td>\n",
       "      <td>1.157009</td>\n",
       "      <td>1</td>\n",
       "      <td>1</td>\n",
       "      <td>0</td>\n",
       "      <td>0</td>\n",
       "      <td>1.098323</td>\n",
       "      <td>1</td>\n",
       "      <td>602</td>\n",
       "      <td>1</td>\n",
       "      <td>2</td>\n",
       "      <td>0</td>\n",
       "      <td>91.886544</td>\n",
       "      <td>0</td>\n",
       "      <td>1</td>\n",
       "      <td>0</td>\n",
       "    </tr>\n",
       "  </tbody>\n",
       "</table>\n",
       "</div>"
      ],
      "text/plain": [
       "      ID  loan_limit  Gender  approv_in_adv  loan_type  loan_purpose  \\\n",
       "0  24890           0       3              0          0             0   \n",
       "1  24891           0       2              0          1             0   \n",
       "2  24892           0       2              1          0             0   \n",
       "3  24893           0       2              0          0             3   \n",
       "4  24894           0       1              1          0             0   \n",
       "\n",
       "   Credit_Worthiness  open_credit  business_or_commercial  loan_amount  \\\n",
       "0                  0            0                       1    -1.238773   \n",
       "1                  0            0                       0    -0.696280   \n",
       "2                  0            0                       1     0.509260   \n",
       "3                  0            0                       1     0.810645   \n",
       "4                  0            0                       1     2.257294   \n",
       "\n",
       "   rate_of_interest  Interest_rate_spread  Upfront_charges   term  \\\n",
       "0          4.045968              0.446221        -0.001005  360.0   \n",
       "1          4.045968              0.446221        -0.001005  360.0   \n",
       "2          4.560000              0.200000        -0.990868  360.0   \n",
       "3          4.250000              0.681000        -0.001005  360.0   \n",
       "4          4.000000              0.304200        -1.220701  360.0   \n",
       "\n",
       "   Neg_ammortization  interest_only  lump_sum_payment  property_value  \\\n",
       "0                  1              1                 1       -1.390294   \n",
       "1                  1              1                 0       -0.001274   \n",
       "2                  0              1                 1        0.161969   \n",
       "3                  1              1                 1        0.758993   \n",
       "4                  1              1                 1        1.157009   \n",
       "\n",
       "   construction_type  occupancy_type  Secured_by  total_units    income  \\\n",
       "0                  1               1           0            0 -1.274916   \n",
       "1                  1               1           0            0 -0.391089   \n",
       "2                  1               1           0            0  0.836448   \n",
       "3                  1               1           0            0  1.491135   \n",
       "4                  1               1           0            0  1.098323   \n",
       "\n",
       "   credit_type  Credit_Score  co-applicant_credit_type  age  \\\n",
       "0            3           758                         0    2   \n",
       "1            2           552                         1    5   \n",
       "2            3           834                         0    2   \n",
       "3            3           587                         0    4   \n",
       "4            1           602                         1    2   \n",
       "\n",
       "   submission_of_application        LTV  Region  Security_Type  Status  \n",
       "0                          1  98.728814       3              1       1  \n",
       "1                          1  73.134888       0              1       1  \n",
       "2                          1  80.019685       3              1       0  \n",
       "3                          0  69.376900       0              1       0  \n",
       "4                          0  91.886544       0              1       0  "
      ]
     },
     "execution_count": 5,
     "metadata": {},
     "output_type": "execute_result"
    }
   ],
   "source": [
    "df.replace({\n",
    "    'Status':{\n",
    "        'Yes': 0,\n",
    "        'No': 1,\n",
    "    },\n",
    "\n",
    "}, inplace=True)\n",
    "df.head()\n"
   ]
  },
  {
   "cell_type": "markdown",
   "metadata": {
    "id": "V9h9tXr0wUBD"
   },
   "source": [
    "# Modelling and Validation"
   ]
  },
  {
   "cell_type": "markdown",
   "metadata": {
    "id": "Qx1cnxlKwUBD"
   },
   "source": [
    "#### Define target and features columns"
   ]
  },
  {
   "cell_type": "code",
   "execution_count": 6,
   "metadata": {
    "executionInfo": {
     "elapsed": 428,
     "status": "ok",
     "timestamp": 1678578113264,
     "user": {
      "displayName": "Ольга Нарушинська",
      "userId": "17109802701742785659"
     },
     "user_tz": -120
    },
    "id": "m8ksqtU6wUBD"
   },
   "outputs": [],
   "source": [
    "X = df.drop(columns='Status')\n",
    "y = df['Status']"
   ]
  },
  {
   "cell_type": "code",
   "execution_count": 7,
   "metadata": {
    "colab": {
     "base_uri": "https://localhost:8080/"
    },
    "executionInfo": {
     "elapsed": 328,
     "status": "ok",
     "timestamp": 1678578119840,
     "user": {
      "displayName": "Ольга Нарушинська",
      "userId": "17109802701742785659"
     },
     "user_tz": -120
    },
    "id": "xIgkaiLQwUBG",
    "outputId": "2b929ae7-93f7-4977-e6e9-8403d60fda14"
   },
   "outputs": [
    {
     "name": "stdout",
     "output_type": "stream",
     "text": [
      "(115318, 31)\n",
      "(115318,)\n",
      "(14415, 31)\n",
      "(14415,)\n",
      "(14415, 31)\n",
      "(14415,)\n"
     ]
    }
   ],
   "source": [
    "# Let's say we want to split the data in 80:10:10 for train:valid:test dataset\n",
    "# In the first step we will split the data in training and remaining dataset\n",
    "X_train, X_rem, y_train, y_rem = train_test_split(X,y, train_size=0.8)\n",
    "\n",
    "# Now since we want the valid and test size to be equal (10% each of overall data). \n",
    "# we have to define valid_size=0.5 (that is 50% of remaining data)\n",
    "X_valid, X_test, y_valid, y_test = train_test_split(X_rem,y_rem, test_size=0.5)\n",
    "\n",
    "print(X_train.shape)\n",
    "print(y_train.shape)\n",
    "print(X_valid.shape)\n",
    "print(y_valid.shape)\n",
    "print(X_test.shape)\n",
    "print(y_test.shape)\n"
   ]
  },
  {
   "cell_type": "markdown",
   "metadata": {},
   "source": [
    "Для оцінки моделей використовуються наступні метрики:\n",
    "\n",
    "Accuracy (Точність) - це частка правильних прогнозів серед усіх прикладів. Для збалансованих наборів даних, де класи приблизно рівні за кількістю, точність є хорошим показником. Однак для незбалансованих даних (де один клас переважає), точність може бути неправильною, оскільки модель може правильно передбачати переважний клас і все одно мати високу точність.\n",
    "\n",
    "Recall (Повнота) - це частка правильно передбачених позитивних прикладів серед усіх реальних позитивних прикладів. У задачах, де важливо мінімізувати пропуск важливих випадків (наприклад, коли потрібно ідентифікувати шахрайство), повнота є ключовою метрикою.\n",
    "\n",
    "F1-міра - це середнє гармонійне між точністю і повнотою. F1-міра особливо корисна в ситуаціях, де дані є незбалансованими, і потрібно знайти баланс між правильною класифікацією позитивних і негативних класів."
   ]
  },
  {
   "cell_type": "code",
   "execution_count": 8,
   "metadata": {
    "executionInfo": {
     "elapsed": 325,
     "status": "ok",
     "timestamp": 1678573275741,
     "user": {
      "displayName": "Ольга Нарушинська",
      "userId": "17109802701742785659"
     },
     "user_tz": -120
    },
    "id": "IqqmKJmLw2Ra"
   },
   "outputs": [],
   "source": [
    "models = { 'LogisticRegression' : LogisticRegression(class_weight='balanced'), 'KNeighborsClassifier' : KNeighborsClassifier(weights='distance') }"
   ]
  },
  {
   "cell_type": "code",
   "execution_count": 9,
   "metadata": {
    "colab": {
     "base_uri": "https://localhost:8080/"
    },
    "executionInfo": {
     "elapsed": 13522,
     "status": "ok",
     "timestamp": 1678573294336,
     "user": {
      "displayName": "Ольга Нарушинська",
      "userId": "17109802701742785659"
     },
     "user_tz": -120
    },
    "id": "j_QDpYsuwUBH",
    "outputId": "5f76f499-62b2-423d-8144-e093e385d34c"
   },
   "outputs": [
    {
     "name": "stdout",
     "output_type": "stream",
     "text": [
      "training  LogisticRegression\n",
      "test set metrics: \n",
      "               precision    recall  f1-score   support\n",
      "\n",
      "           0       0.82      0.57      0.67     10811\n",
      "           1       0.32      0.62      0.42      3604\n",
      "\n",
      "    accuracy                           0.58     14415\n",
      "   macro avg       0.57      0.59      0.55     14415\n",
      "weighted avg       0.69      0.58      0.61     14415\n",
      "\n",
      "validation set metrics: \n",
      "               precision    recall  f1-score   support\n",
      "\n",
      "           0       0.82      0.58      0.68     10900\n",
      "           1       0.32      0.62      0.42      3515\n",
      "\n",
      "    accuracy                           0.59     14415\n",
      "   macro avg       0.57      0.60      0.55     14415\n",
      "weighted avg       0.70      0.59      0.62     14415\n",
      "\n",
      "training  KNeighborsClassifier\n",
      "test set metrics: \n",
      "               precision    recall  f1-score   support\n",
      "\n",
      "           0       0.75      0.88      0.81     10811\n",
      "           1       0.26      0.13      0.17      3604\n",
      "\n",
      "    accuracy                           0.69     14415\n",
      "   macro avg       0.51      0.50      0.49     14415\n",
      "weighted avg       0.63      0.69      0.65     14415\n",
      "\n",
      "validation set metrics: \n",
      "               precision    recall  f1-score   support\n",
      "\n",
      "           0       0.76      0.88      0.81     10900\n",
      "           1       0.25      0.13      0.17      3515\n",
      "\n",
      "    accuracy                           0.70     14415\n",
      "   macro avg       0.51      0.50      0.49     14415\n",
      "weighted avg       0.63      0.70      0.66     14415\n",
      "\n"
     ]
    }
   ],
   "source": [
    "classifiers = dict()\n",
    "for name, model in models.items():\n",
    "    print('training ',name)\n",
    "    classifier = model\n",
    "    classifier.fit(X_train, y_train)\n",
    "    y_pred = classifier.predict(X_test)\n",
    "    print('test set metrics: \\n', metrics.classification_report(y_test, y_pred))\n",
    "    y_pred = classifier.predict(X_valid)\n",
    "    print('validation set metrics: \\n', metrics.classification_report(y_valid, y_pred))\n",
    "    classifiers[name] = classifier\n"
   ]
  },
  {
   "cell_type": "markdown",
   "metadata": {
    "id": "8d3PZ--BwUBI"
   },
   "source": [
    "# K-fold validation"
   ]
  },
  {
   "cell_type": "code",
   "execution_count": 10,
   "metadata": {
    "id": "VGjIIaXDwUBI",
    "outputId": "365797f7-2362-4ae1-e694-655c7944b5b7",
    "scrolled": true
   },
   "outputs": [
    {
     "name": "stdout",
     "output_type": "stream",
     "text": [
      "k-fold set metrics: \n",
      "               precision    recall  f1-score   support\n",
      "\n",
      "           0       0.84      0.53      0.65     17487\n",
      "           1       0.31      0.67      0.43      5577\n",
      "\n",
      "    accuracy                           0.57     23064\n",
      "   macro avg       0.58      0.60      0.54     23064\n",
      "weighted avg       0.71      0.57      0.60     23064\n",
      "\n",
      "k-fold set metrics: \n",
      "               precision    recall  f1-score   support\n",
      "\n",
      "           0       0.82      0.57      0.67     17345\n",
      "           1       0.32      0.62      0.42      5719\n",
      "\n",
      "    accuracy                           0.58     23064\n",
      "   macro avg       0.57      0.60      0.55     23064\n",
      "weighted avg       0.70      0.58      0.61     23064\n",
      "\n",
      "k-fold set metrics: \n",
      "               precision    recall  f1-score   support\n",
      "\n",
      "           0       0.83      0.51      0.63     17416\n",
      "           1       0.31      0.68      0.43      5648\n",
      "\n",
      "    accuracy                           0.55     23064\n",
      "   macro avg       0.57      0.60      0.53     23064\n",
      "weighted avg       0.70      0.55      0.58     23064\n",
      "\n",
      "k-fold set metrics: \n",
      "               precision    recall  f1-score   support\n",
      "\n",
      "           0       0.83      0.60      0.70     17339\n",
      "           1       0.34      0.63      0.44      5724\n",
      "\n",
      "    accuracy                           0.61     23063\n",
      "   macro avg       0.59      0.62      0.57     23063\n",
      "weighted avg       0.71      0.61      0.63     23063\n",
      "\n",
      "k-fold set metrics: \n",
      "               precision    recall  f1-score   support\n",
      "\n",
      "           0       0.82      0.58      0.68     17344\n",
      "           1       0.32      0.61      0.42      5719\n",
      "\n",
      "    accuracy                           0.59     23063\n",
      "   macro avg       0.57      0.60      0.55     23063\n",
      "weighted avg       0.70      0.59      0.61     23063\n",
      "\n",
      "test set metrics: \n",
      "               precision    recall  f1-score   support\n",
      "\n",
      "           0       0.82      0.57      0.67     10811\n",
      "           1       0.32      0.62      0.42      3604\n",
      "\n",
      "    accuracy                           0.58     14415\n",
      "   macro avg       0.57      0.59      0.55     14415\n",
      "weighted avg       0.69      0.58      0.61     14415\n",
      "\n"
     ]
    }
   ],
   "source": [
    "from numpy import array\n",
    "from sklearn.model_selection import KFold\n",
    "\n",
    "\n",
    "# split train/test data\n",
    "X_train, X_rem, y_train, y_rem = train_test_split(X,y, train_size=0.8)\n",
    "\n",
    "\n",
    "# prepare cross validation\n",
    "kfold = KFold(n_splits=5, shuffle=True, random_state=42)\n",
    "# enumerate splits\n",
    "for train, test in kfold.split(X_train):\n",
    "    classifier = LogisticRegression(class_weight='balanced')\n",
    "    classifier.fit(X_train.iloc[train], y_train.iloc[train])\n",
    "    y_pred = classifier.predict(X_train.iloc[test])\n",
    "    print('k-fold set metrics: \\n', metrics.classification_report(y_train.iloc[test], y_pred))\n",
    "\n",
    "y_pred = classifier.predict(X_test)    \n",
    "print('test set metrics: \\n', metrics.classification_report(y_test, y_pred))\n"
   ]
  },
  {
   "cell_type": "markdown",
   "metadata": {
    "id": "e2P4KbnDwUBJ"
   },
   "source": [
    "# Random permutations cross-validation"
   ]
  },
  {
   "cell_type": "code",
   "execution_count": 11,
   "metadata": {
    "colab": {
     "base_uri": "https://localhost:8080/"
    },
    "executionInfo": {
     "elapsed": 67406,
     "status": "ok",
     "timestamp": 1678573508259,
     "user": {
      "displayName": "Ольга Нарушинська",
      "userId": "17109802701742785659"
     },
     "user_tz": -120
    },
    "id": "boZYJIYfwUBK",
    "outputId": "345c7dfd-fda7-4eb7-960e-265c844ac54a",
    "scrolled": true
   },
   "outputs": [
    {
     "name": "stdout",
     "output_type": "stream",
     "text": [
      "k-fold set metrics: \n",
      "               precision    recall  f1-score   support\n",
      "\n",
      "           0       0.82      0.60      0.70     21695\n",
      "           1       0.33      0.60      0.43      7135\n",
      "\n",
      "    accuracy                           0.60     28830\n",
      "   macro avg       0.58      0.60      0.56     28830\n",
      "weighted avg       0.70      0.60      0.63     28830\n",
      "\n",
      "k-fold set metrics: \n",
      "               precision    recall  f1-score   support\n",
      "\n",
      "           0       0.82      0.57      0.67     21673\n",
      "           1       0.32      0.61      0.42      7157\n",
      "\n",
      "    accuracy                           0.58     28830\n",
      "   macro avg       0.57      0.59      0.55     28830\n",
      "weighted avg       0.69      0.58      0.61     28830\n",
      "\n",
      "k-fold set metrics: \n",
      "               precision    recall  f1-score   support\n",
      "\n",
      "           0       0.83      0.58      0.69     21734\n",
      "           1       0.33      0.64      0.44      7096\n",
      "\n",
      "    accuracy                           0.60     28830\n",
      "   macro avg       0.58      0.61      0.56     28830\n",
      "weighted avg       0.71      0.60      0.62     28830\n",
      "\n",
      "k-fold set metrics: \n",
      "               precision    recall  f1-score   support\n",
      "\n",
      "           0       0.82      0.57      0.67     21672\n",
      "           1       0.32      0.61      0.42      7158\n",
      "\n",
      "    accuracy                           0.58     28830\n",
      "   macro avg       0.57      0.59      0.55     28830\n",
      "weighted avg       0.69      0.58      0.61     28830\n",
      "\n",
      "k-fold set metrics: \n",
      "               precision    recall  f1-score   support\n",
      "\n",
      "           0       0.82      0.61      0.70     21645\n",
      "           1       0.33      0.58      0.42      7185\n",
      "\n",
      "    accuracy                           0.61     28830\n",
      "   macro avg       0.57      0.60      0.56     28830\n",
      "weighted avg       0.70      0.61      0.63     28830\n",
      "\n"
     ]
    }
   ],
   "source": [
    "from sklearn.model_selection import ShuffleSplit\n",
    "\n",
    "ss = ShuffleSplit(n_splits=5, test_size=0.2, random_state=0)\n",
    "for train_index, test_index in ss.split(X):\n",
    "    classifier = LogisticRegression(class_weight='balanced')\n",
    "    classifier.fit(X.iloc[train_index], y.iloc[train_index])\n",
    "    y_pred = classifier.predict(X.iloc[test_index])\n",
    "    print('k-fold set metrics: \\n', metrics.classification_report(y.iloc[test_index], y_pred))"
   ]
  },
  {
   "cell_type": "markdown",
   "metadata": {
    "id": "tYKQ85FJwUBK"
   },
   "source": [
    "# Leave-One-Out cross-validator"
   ]
  },
  {
   "cell_type": "code",
   "execution_count": null,
   "metadata": {
    "colab": {
     "base_uri": "https://localhost:8080/"
    },
    "executionInfo": {
     "elapsed": 28059,
     "status": "ok",
     "timestamp": 1678578155967,
     "user": {
      "displayName": "Ольга Нарушинська",
      "userId": "17109802701742785659"
     },
     "user_tz": -120
    },
    "id": "n0w1645awUBL",
    "outputId": "4ab90edc-ee1d-4a31-a3d2-9375a7f70ce5"
   },
   "outputs": [
    {
     "name": "stdout",
     "output_type": "stream",
     "text": [
      "(144148, 31) (144148,)\n"
     ]
    }
   ],
   "source": [
    "# from sklearn.model_selection import LeaveOneOut\n",
    "# from sklearn.model_selection import cross_val_score\n",
    "# from sklearn.ensemble import RandomForestClassifier\n",
    "\n",
    "# print(X.shape, y.shape)\n",
    "# # create loocv procedure\n",
    "# cv = LeaveOneOut()\n",
    "# # create model\n",
    "# model = LogisticRegression(class_weight='balanced')\n",
    "# # evaluate model\n",
    "# scores = cross_val_score(model, X, y, scoring='accuracy', cv=cv)\n",
    "# # report performance\n",
    "# print('Accuracy: %.3f (%.3f)' % (np.mean(scores), np.std(scores)))"
   ]
  },
  {
   "cell_type": "markdown",
   "metadata": {
    "id": "W39tw1Y7wUBL"
   },
   "source": [
    "# Group k-fold"
   ]
  },
  {
   "cell_type": "code",
   "execution_count": 13,
   "metadata": {},
   "outputs": [
    {
     "data": {
      "text/plain": [
       "array([758, 552, 834, 587, 602, 864, 860, 863, 580, 788, 723, 501, 884,\n",
       "       520, 773, 685, 846, 534, 629, 688, 668, 692, 620, 533, 518, 812,\n",
       "       647, 683, 705, 701, 591, 889, 651, 716, 780, 799, 766, 868, 765,\n",
       "       673, 876, 886, 772, 640, 798, 858, 543, 555, 603, 808, 519, 786,\n",
       "       769, 556, 567, 632, 818, 584, 750, 838, 741, 820, 665, 783, 663,\n",
       "       612, 739, 571, 870, 793, 804, 801, 711, 634, 764, 865, 593, 511,\n",
       "       774, 644, 732, 586, 642, 872, 898, 734, 639, 506, 664, 670, 577,\n",
       "       857, 653, 595, 787, 560, 613, 514, 867, 717, 619, 600, 524, 883,\n",
       "       503, 887, 604, 648, 797, 806, 845, 815, 585, 729, 538, 791, 671,\n",
       "       755, 760, 578, 836, 777, 667, 880, 568, 805, 590, 892, 540, 869,\n",
       "       737, 831, 608, 803, 795, 674, 781, 545, 796, 660, 850, 851, 794,\n",
       "       866, 611, 621, 862, 829, 848, 733, 700, 633, 702, 882, 686, 652,\n",
       "       844, 649, 557, 761, 569, 523, 740, 638, 690, 616, 782, 601, 809,\n",
       "       855, 768, 627, 854, 762, 746, 592, 697, 710, 522, 789, 693, 597,\n",
       "       680, 575, 694, 581, 678, 714, 871, 800, 853, 718, 713, 874, 625,\n",
       "       626, 500, 695, 517, 759, 792, 822, 516, 704, 605, 539, 598, 763,\n",
       "       515, 529, 830, 551, 715, 802, 879, 743, 572, 699, 617, 661, 896,\n",
       "       856, 656, 875, 778, 775, 785, 779, 565, 753, 852, 719, 744, 770,\n",
       "       614, 888, 547, 728, 618, 574, 505, 807, 703, 814, 843, 635, 824,\n",
       "       559, 837, 847, 885, 630, 589, 654, 724, 527, 738, 811, 546, 537,\n",
       "       594, 658, 583, 666, 742, 512, 508, 877, 706, 727, 698, 609, 623,\n",
       "       544, 645, 657, 712, 513, 771, 736, 536, 828, 588, 730, 731, 646,\n",
       "       563, 525, 784, 752, 756, 833, 561, 570, 899, 890, 720, 722, 526,\n",
       "       553, 596, 549, 709, 735, 776, 881, 669, 726, 535, 745, 636, 684,\n",
       "       827, 672, 573, 816, 893, 707, 607, 817, 873, 810, 679, 558, 624,\n",
       "       825, 708, 502, 659, 757, 599, 749, 894, 541, 675, 615, 641, 682,\n",
       "       628, 582, 832, 550, 528, 509, 821, 849, 691, 826, 662, 504, 676,\n",
       "       579, 900, 689, 622, 767, 721, 835, 532, 751, 725, 748, 610, 754,\n",
       "       878, 823, 562, 548, 631, 637, 606, 530, 687, 564, 696, 819, 839,\n",
       "       840, 747, 681, 861, 566, 891, 790, 897, 542, 813, 859, 650, 842,\n",
       "       521, 841, 531, 643, 655, 507, 576, 510, 554, 895, 677])"
      ]
     },
     "execution_count": 13,
     "metadata": {},
     "output_type": "execute_result"
    }
   ],
   "source": [
    "X['Credit_Score'].unique()"
   ]
  },
  {
   "cell_type": "code",
   "execution_count": 12,
   "metadata": {
    "colab": {
     "base_uri": "https://localhost:8080/"
    },
    "executionInfo": {
     "elapsed": 98047,
     "status": "ok",
     "timestamp": 1678576622331,
     "user": {
      "displayName": "Ольга Нарушинська",
      "userId": "17109802701742785659"
     },
     "user_tz": -120
    },
    "id": "zRTy0P-wwUBN",
    "outputId": "623ee9b6-cfab-4c32-9b66-54f5918bd7f7",
    "scrolled": true
   },
   "outputs": [
    {
     "name": "stdout",
     "output_type": "stream",
     "text": [
      "Uniq CreditRating for test \n",
      " [552 864 520 688 683 591 799 766 765 876 798 786 818 584 741 820 804 801\n",
      " 586 898 734 653 560 613 524 648 815 760 836 568 892 540 608 803 795 545\n",
      " 850 794 686 740 638 809 855 627 854 522 789 680 714 718 626 695 539 763\n",
      " 515 830 715 743 896 753 703 635 837 630 811 706 727 609 623 544 563 570\n",
      " 899 890 722 735 776 636 827 672 573 893 817 810 825 708 502 682 582 826\n",
      " 900 622 721 878 631 687 696 566 542 859]\n",
      "k-fold set metrics: \n",
      "               precision    recall  f1-score   support\n",
      "\n",
      "           0       0.84      0.62      0.71     26983\n",
      "           1       0.36      0.64      0.46      8977\n",
      "\n",
      "    accuracy                           0.63     35960\n",
      "   macro avg       0.60      0.63      0.59     35960\n",
      "weighted avg       0.72      0.63      0.65     35960\n",
      "\n",
      "Uniq CreditRating for test \n",
      " [834 860 863 580 685 846 889 651 780 868 673 640 603 567 632 838 665 739\n",
      " 571 793 711 764 774 732 642 506 514 867 503 887 845 729 538 791 578 667\n",
      " 831 660 621 700 523 697 597 694 581 871 625 517 759 516 704 605 551 617\n",
      " 661 656 875 775 785 565 852 888 547 505 843 824 559 654 724 527 738 594\n",
      " 666 513 736 828 646 784 833 720 709 881 726 535 679 558 757 641 628 528\n",
      " 509 662 767 610 823 548 839 747 841 655 677]\n",
      "k-fold set metrics: \n",
      "               precision    recall  f1-score   support\n",
      "\n",
      "           0       0.85      0.62      0.71     27528\n",
      "           1       0.35      0.65      0.45      8744\n",
      "\n",
      "    accuracy                           0.62     36272\n",
      "   macro avg       0.60      0.63      0.58     36272\n",
      "weighted avg       0.73      0.62      0.65     36272\n",
      "\n",
      "Uniq CreditRating for test \n",
      " [758 587 788 723 884 773 629 692 620 533 647 705 701 772 543 519 769 556\n",
      " 612 870 634 644 670 577 857 787 600 883 585 671 755 777 869 781 796 866\n",
      " 733 844 557 569 616 601 710 575 853 713 598 529 802 879 572 699 778 719\n",
      " 744 770 614 728 618 807 814 885 742 512 877 771 536 588 730 731 525 553\n",
      " 549 745 816 707 607 599 675 832 821 849 691 504 676 579 689 725 748 754\n",
      " 562 530 564 681 891 790 897 650 842 554]\n",
      "k-fold set metrics: \n",
      "               precision    recall  f1-score   support\n",
      "\n",
      "           0       0.82      0.57      0.67     27217\n",
      "           1       0.31      0.61      0.41      8741\n",
      "\n",
      "    accuracy                           0.58     35958\n",
      "   macro avg       0.57      0.59      0.54     35958\n",
      "weighted avg       0.70      0.58      0.61     35958\n",
      "\n",
      "Uniq CreditRating for test \n",
      " [602 501 534 668 518 812 716 886 858 555 808 750 783 663 865 593 511 872\n",
      " 639 664 595 717 619 604 797 806 880 805 590 737 674 851 611 862 829 848\n",
      " 633 702 882 652 649 761 690 782 768 762 746 592 693 678 800 874 500 792\n",
      " 822 856 779 574 847 589 546 537 658 583 508 698 645 657 712 752 756 561\n",
      " 526 596 669 684 873 624 659 749 894 541 615 550 835 532 751 637 606 819\n",
      " 840 861 813 521 531 643 507 576 510 895]\n",
      "k-fold set metrics: \n",
      "               precision    recall  f1-score   support\n",
      "\n",
      "           0       0.82      0.56      0.67     27001\n",
      "           1       0.32      0.62      0.42      8957\n",
      "\n",
      "    accuracy                           0.58     35958\n",
      "   macro avg       0.57      0.59      0.54     35958\n",
      "weighted avg       0.69      0.58      0.61     35958\n",
      "\n"
     ]
    }
   ],
   "source": [
    "from sklearn.model_selection import GroupKFold\n",
    "\n",
    "gkf = GroupKFold(n_splits=4)\n",
    "for train_index, test_index in gkf.split(X, y, groups=X['Credit_Score']):\n",
    "    print('Uniq CreditRating for test \\n',X.iloc[test_index]['Credit_Score'].unique())\n",
    "    classifier = LogisticRegression(class_weight='balanced')\n",
    "    classifier.fit(X.iloc[train_index], y.iloc[train_index])\n",
    "    y_pred = classifier.predict(X.iloc[test_index])\n",
    "    print('k-fold set metrics: \\n', metrics.classification_report(y.iloc[test_index], y_pred))"
   ]
  },
  {
   "cell_type": "code",
   "execution_count": 27,
   "metadata": {
    "executionInfo": {
     "elapsed": 15,
     "status": "ok",
     "timestamp": 1678576622331,
     "user": {
      "displayName": "Ольга Нарушинська",
      "userId": "17109802701742785659"
     },
     "user_tz": -120
    },
    "id": "rWjLDMNZwUBN"
   },
   "outputs": [],
   "source": []
  },
  {
   "cell_type": "markdown",
   "metadata": {
    "id": "oHYpIYbawUBO"
   },
   "source": [
    "# Validation metrics"
   ]
  },
  {
   "cell_type": "markdown",
   "metadata": {
    "id": "hxBIniB6wUBO"
   },
   "source": [
    "## Classification metrics"
   ]
  },
  {
   "cell_type": "markdown",
   "metadata": {
    "id": "t1h22QppwUBO"
   },
   "source": [
    "#### Define target and features columns"
   ]
  },
  {
   "cell_type": "code",
   "execution_count": 34,
   "metadata": {
    "executionInfo": {
     "elapsed": 5,
     "status": "ok",
     "timestamp": 1678576622331,
     "user": {
      "displayName": "Ольга Нарушинська",
      "userId": "17109802701742785659"
     },
     "user_tz": -120
    },
    "id": "469_f5P0wUBO"
   },
   "outputs": [],
   "source": [
    "X = df.drop(columns='Status')\n",
    "y = df['Status']"
   ]
  },
  {
   "cell_type": "markdown",
   "metadata": {
    "id": "IIRtU0oZwUBO"
   },
   "source": [
    "#### Train test set split"
   ]
  },
  {
   "cell_type": "code",
   "execution_count": 35,
   "metadata": {
    "executionInfo": {
     "elapsed": 6,
     "status": "ok",
     "timestamp": 1678576622332,
     "user": {
      "displayName": "Ольга Нарушинська",
      "userId": "17109802701742785659"
     },
     "user_tz": -120
    },
    "id": "xm0l-YPowUBP"
   },
   "outputs": [],
   "source": [
    "X_train, X_test, y_train, y_test = train_test_split(X, y, test_size=0.2, random_state=42)"
   ]
  },
  {
   "cell_type": "markdown",
   "metadata": {
    "id": "Rmw11DPbwUBP"
   },
   "source": [
    "### Confusion matrix"
   ]
  },
  {
   "cell_type": "markdown",
   "metadata": {
    "id": "1nJVjW-MwUBP"
   },
   "source": [
    "The confusion_matrix function evaluates classification accuracy by computing the confusion matrix with each row corresponding to the true class (Wikipedia and other references may use different convention for axes).\n",
    "\n",
    "By definition, entry  in a confusion matrix is the number of observations actually in group , but predicted to be in group . Here is an example:"
   ]
  },
  {
   "cell_type": "code",
   "execution_count": 36,
   "metadata": {
    "executionInfo": {
     "elapsed": 5,
     "status": "ok",
     "timestamp": 1678576622332,
     "user": {
      "displayName": "Ольга Нарушинська",
      "userId": "17109802701742785659"
     },
     "user_tz": -120
    },
    "id": "3Qtqxk2DwUBP"
   },
   "outputs": [],
   "source": [
    "from sklearn.tree import DecisionTreeClassifier\n",
    "from sklearn.metrics import confusion_matrix\n",
    "from sklearn.metrics import ConfusionMatrixDisplay"
   ]
  },
  {
   "cell_type": "code",
   "execution_count": 37,
   "metadata": {
    "colab": {
     "base_uri": "https://localhost:8080/",
     "height": 331
    },
    "executionInfo": {
     "elapsed": 1265,
     "status": "ok",
     "timestamp": 1678576623592,
     "user": {
      "displayName": "Ольга Нарушинська",
      "userId": "17109802701742785659"
     },
     "user_tz": -120
    },
    "id": "0WGBhkRxwUBP",
    "outputId": "5d83284b-c80f-4575-9a38-e9f9da26824e"
   },
   "outputs": [
    {
     "name": "stdout",
     "output_type": "stream",
     "text": [
      "[[13553  8168]\n",
      " [ 2499  4610]]\n"
     ]
    },
    {
     "data": {
      "text/plain": [
       "<sklearn.metrics._plot.confusion_matrix.ConfusionMatrixDisplay at 0x14194974290>"
      ]
     },
     "execution_count": 37,
     "metadata": {},
     "output_type": "execute_result"
    },
    {
     "data": {
      "image/png": "[encoded data removed]",
      "text/plain": [
       "<Figure size 640x480 with 2 Axes>"
      ]
     },
     "metadata": {},
     "output_type": "display_data"
    }
   ],
   "source": [
    "dt_classifier = LogisticRegression(class_weight='balanced')\n",
    "dt_classifier.fit(X_train, y_train)\n",
    "y_pred = dt_classifier.predict(X_test)\n",
    "conf_matrix = metrics.confusion_matrix(y_test, y_pred)\n",
    "print(conf_matrix)\n",
    "disp = ConfusionMatrixDisplay(conf_matrix)\n",
    "disp.plot()"
   ]
  },
  {
   "cell_type": "markdown",
   "metadata": {
    "id": "z0cabUPLwUBQ"
   },
   "source": [
    "### Accuracy "
   ]
  },
  {
   "cell_type": "code",
   "execution_count": 38,
   "metadata": {
    "executionInfo": {
     "elapsed": 5,
     "status": "ok",
     "timestamp": 1678576623593,
     "user": {
      "displayName": "Ольга Нарушинська",
      "userId": "17109802701742785659"
     },
     "user_tz": -120
    },
    "id": "T3O8FmJ3wUBQ"
   },
   "outputs": [],
   "source": [
    "from sklearn.metrics import accuracy_score"
   ]
  },
  {
   "cell_type": "code",
   "execution_count": 39,
   "metadata": {
    "colab": {
     "base_uri": "https://localhost:8080/"
    },
    "executionInfo": {
     "elapsed": 1279,
     "status": "ok",
     "timestamp": 1678576624868,
     "user": {
      "displayName": "Ольга Нарушинська",
      "userId": "17109802701742785659"
     },
     "user_tz": -120
    },
    "id": "mnizrnDrwUBR",
    "outputId": "8d49ea01-ab34-4160-ee72-f6ec79ab5887"
   },
   "outputs": [
    {
     "data": {
      "text/plain": [
       "0.6300034686090877"
      ]
     },
     "execution_count": 39,
     "metadata": {},
     "output_type": "execute_result"
    }
   ],
   "source": [
    "dt_classifier = LogisticRegression(class_weight='balanced')\n",
    "dt_classifier.fit(X_train, y_train)\n",
    "y_pred = dt_classifier.predict(X_test)\n",
    "metrics.accuracy_score(y_test, y_pred)\n"
   ]
  },
  {
   "cell_type": "markdown",
   "metadata": {
    "id": "EKpyQSQ6wUBR"
   },
   "source": [
    "### Precision"
   ]
  },
  {
   "cell_type": "code",
   "execution_count": 40,
   "metadata": {
    "executionInfo": {
     "elapsed": 4,
     "status": "ok",
     "timestamp": 1678576624869,
     "user": {
      "displayName": "Ольга Нарушинська",
      "userId": "17109802701742785659"
     },
     "user_tz": -120
    },
    "id": "aFoJ1FRDwUBS"
   },
   "outputs": [],
   "source": [
    "from sklearn.metrics import precision_score"
   ]
  },
  {
   "cell_type": "code",
   "execution_count": 41,
   "metadata": {
    "colab": {
     "base_uri": "https://localhost:8080/"
    },
    "executionInfo": {
     "elapsed": 1545,
     "status": "ok",
     "timestamp": 1678576626411,
     "user": {
      "displayName": "Ольга Нарушинська",
      "userId": "17109802701742785659"
     },
     "user_tz": -120
    },
    "id": "n1oMcjciwUBS",
    "outputId": "a039caaa-f1d6-4dbf-a61e-6379420488eb"
   },
   "outputs": [
    {
     "data": {
      "text/plain": [
       "np.float64(0.3607763343246204)"
      ]
     },
     "execution_count": 41,
     "metadata": {},
     "output_type": "execute_result"
    }
   ],
   "source": [
    "dt_classifier = LogisticRegression(class_weight='balanced')\n",
    "dt_classifier.fit(X_train, y_train)\n",
    "y_pred = dt_classifier.predict(X_test)\n",
    "metrics.precision_score(y_test, y_pred)\n"
   ]
  },
  {
   "cell_type": "markdown",
   "metadata": {
    "id": "KVbVLsgWwUBS"
   },
   "source": [
    "### Recall"
   ]
  },
  {
   "cell_type": "code",
   "execution_count": 42,
   "metadata": {
    "executionInfo": {
     "elapsed": 4,
     "status": "ok",
     "timestamp": 1678576626412,
     "user": {
      "displayName": "Ольга Нарушинська",
      "userId": "17109802701742785659"
     },
     "user_tz": -120
    },
    "id": "B0IrmL_ZwUBT"
   },
   "outputs": [],
   "source": [
    "from sklearn.metrics import recall_score"
   ]
  },
  {
   "cell_type": "code",
   "execution_count": 43,
   "metadata": {
    "colab": {
     "base_uri": "https://localhost:8080/"
    },
    "executionInfo": {
     "elapsed": 1420,
     "status": "ok",
     "timestamp": 1678576627829,
     "user": {
      "displayName": "Ольга Нарушинська",
      "userId": "17109802701742785659"
     },
     "user_tz": -120
    },
    "id": "N8tHKH3ywUBT",
    "outputId": "d4bb436c-bd29-4d5f-deb0-0612783987f8"
   },
   "outputs": [
    {
     "data": {
      "text/plain": [
       "np.float64(0.6484737656491771)"
      ]
     },
     "execution_count": 43,
     "metadata": {},
     "output_type": "execute_result"
    }
   ],
   "source": [
    "dt_classifier = LogisticRegression(class_weight='balanced')\n",
    "dt_classifier.fit(X_train, y_train)\n",
    "y_pred = dt_classifier.predict(X_test)\n",
    "metrics.recall_score(y_test, y_pred)\n"
   ]
  },
  {
   "cell_type": "markdown",
   "metadata": {
    "id": "BLGafAXywUBT"
   },
   "source": [
    "### F1 Score"
   ]
  },
  {
   "cell_type": "code",
   "execution_count": 44,
   "metadata": {
    "executionInfo": {
     "elapsed": 2,
     "status": "ok",
     "timestamp": 1678576627829,
     "user": {
      "displayName": "Ольга Нарушинська",
      "userId": "17109802701742785659"
     },
     "user_tz": -120
    },
    "id": "Qi2IXmHWwUBU"
   },
   "outputs": [],
   "source": [
    "from sklearn.metrics import f1_score"
   ]
  },
  {
   "cell_type": "code",
   "execution_count": 45,
   "metadata": {
    "colab": {
     "base_uri": "https://localhost:8080/"
    },
    "executionInfo": {
     "elapsed": 1680,
     "status": "ok",
     "timestamp": 1678576629507,
     "user": {
      "displayName": "Ольга Нарушинська",
      "userId": "17109802701742785659"
     },
     "user_tz": -120
    },
    "id": "rH4gIm-DwUBU",
    "outputId": "d5b37095-c78c-4dfe-dde9-ab80bac3c162"
   },
   "outputs": [
    {
     "data": {
      "text/plain": [
       "np.float64(0.4636194498918892)"
      ]
     },
     "execution_count": 45,
     "metadata": {},
     "output_type": "execute_result"
    }
   ],
   "source": [
    "dt_classifier = LogisticRegression(class_weight='balanced')\n",
    "dt_classifier.fit(X_train, y_train)\n",
    "y_pred = dt_classifier.predict(X_test)\n",
    "metrics.f1_score(y_test, y_pred)\n"
   ]
  },
  {
   "cell_type": "markdown",
   "metadata": {
    "id": "0k1IM_RswUBU"
   },
   "source": [
    "### Area Under Curve(AUC)"
   ]
  },
  {
   "cell_type": "code",
   "execution_count": 46,
   "metadata": {
    "executionInfo": {
     "elapsed": 1100,
     "status": "ok",
     "timestamp": 1678576630605,
     "user": {
      "displayName": "Ольга Нарушинська",
      "userId": "17109802701742785659"
     },
     "user_tz": -120
    },
    "id": "9KQ9w4OkwUBU"
   },
   "outputs": [],
   "source": [
    "import numpy as np\n",
    "from sklearn.metrics import roc_curve\n",
    "from sklearn.metrics import auc\n",
    "\n",
    "dt_classifier = LogisticRegression(class_weight='balanced')\n",
    "dt_classifier.fit(X_train, y_train)\n",
    "y_pred = dt_classifier.predict(X_test)\n",
    "\n",
    "fpr, tpr, thresholds = roc_curve(y_test, y_pred)\n",
    "roc_auc = auc(fpr, tpr)\n"
   ]
  },
  {
   "cell_type": "code",
   "execution_count": 47,
   "metadata": {
    "colab": {
     "base_uri": "https://localhost:8080/"
    },
    "executionInfo": {
     "elapsed": 5,
     "status": "ok",
     "timestamp": 1678576630606,
     "user": {
      "displayName": "Ольга Нарушинська",
      "userId": "17109802701742785659"
     },
     "user_tz": -120
    },
    "id": "acNiwUbpwUBV",
    "outputId": "71c48268-8f94-4046-9eda-1b536fd275b6"
   },
   "outputs": [
    {
     "data": {
      "text/plain": [
       "np.float64(0.6362160734695864)"
      ]
     },
     "execution_count": 47,
     "metadata": {},
     "output_type": "execute_result"
    }
   ],
   "source": [
    "roc_auc"
   ]
  },
  {
   "cell_type": "code",
   "execution_count": 48,
   "metadata": {
    "colab": {
     "base_uri": "https://localhost:8080/",
     "height": 295
    },
    "executionInfo": {
     "elapsed": 646,
     "status": "ok",
     "timestamp": 1678576631249,
     "user": {
      "displayName": "Ольга Нарушинська",
      "userId": "17109802701742785659"
     },
     "user_tz": -120
    },
    "id": "Ci7GckC3wUBV",
    "outputId": "ac76e5bb-2386-4e92-dde0-2ed857655b71"
   },
   "outputs": [
    {
     "data": {
      "image/png": "[encoded data removed]",
      "text/plain": [
       "<Figure size 640x480 with 1 Axes>"
      ]
     },
     "metadata": {},
     "output_type": "display_data"
    }
   ],
   "source": [
    "# method I: plt\n",
    "import matplotlib.pyplot as plt\n",
    "plt.title('Receiver Operating Characteristic')\n",
    "plt.plot(fpr, tpr, 'b', label = 'AUC = %0.2f' % roc_auc)\n",
    "plt.legend(loc = 'lower right')\n",
    "plt.plot([0, 1], [0, 1],'r--')\n",
    "plt.xlim([0, 1])\n",
    "plt.ylim([0, 1])\n",
    "plt.ylabel('True Positive Rate')\n",
    "plt.xlabel('False Positive Rate')\n",
    "plt.show()"
   ]
  },
  {
   "cell_type": "markdown",
   "metadata": {
    "id": "y8xgODl0wUBV"
   },
   "source": [
    "##### The classification_report function builds a text report showing the main classification metrics. "
   ]
  },
  {
   "cell_type": "code",
   "execution_count": 49,
   "metadata": {
    "colab": {
     "base_uri": "https://localhost:8080/"
    },
    "executionInfo": {
     "elapsed": 711,
     "status": "ok",
     "timestamp": 1678576631956,
     "user": {
      "displayName": "Ольга Нарушинська",
      "userId": "17109802701742785659"
     },
     "user_tz": -120
    },
    "id": "a1IpgcoUwUBW",
    "outputId": "d4ec561a-bc69-4194-c011-75aff5b16b74"
   },
   "outputs": [
    {
     "name": "stdout",
     "output_type": "stream",
     "text": [
      "              precision    recall  f1-score   support\n",
      "\n",
      "           0       0.84      0.62      0.72     21721\n",
      "           1       0.36      0.65      0.46      7109\n",
      "\n",
      "    accuracy                           0.63     28830\n",
      "   macro avg       0.60      0.64      0.59     28830\n",
      "weighted avg       0.73      0.63      0.65     28830\n",
      "\n"
     ]
    }
   ],
   "source": [
    "dt_classifier = LogisticRegression(class_weight='balanced')\n",
    "dt_classifier.fit(X_train, y_train)\n",
    "y_pred = dt_classifier.predict(X_test)\n",
    "print(metrics.classification_report(y_test, y_pred))"
   ]
  },
  {
   "cell_type": "code",
   "execution_count": null,
   "metadata": {},
   "outputs": [],
   "source": []
  }
 ],
 "metadata": {
  "colab": {
   "provenance": []
  },
  "kernelspec": {
   "display_name": "Python 3 (ipykernel)",
   "language": "python",
   "name": "python3"
  },
  "language_info": {
   "codemirror_mode": {
    "name": "ipython",
    "version": 3
   },
   "file_extension": ".py",
   "mimetype": "text/x-python",
   "name": "python",
   "nbconvert_exporter": "python",
   "pygments_lexer": "ipython3",
   "version": "3.12.2"
  },
  "vscode": {
   "interpreter": {
    "hash": "7172106abc92638029cd8423ee47f98336618e2f42ec4b056b806f415585df73"
   }
  }
 },
 "nbformat": 4,
 "nbformat_minor": 4
}
