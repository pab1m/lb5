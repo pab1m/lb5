{
 "cells": [
  {
   "cell_type": "code",
   "execution_count": 2,
   "metadata": {
    "id": "e1bFNBf3uaSw"
   },
   "outputs": [],
   "source": [
    "import pandas as pd\n",
    "import numpy as np\n",
    "import matplotlib.pyplot as plt\n",
    "import seaborn as sns\n",
    "from scipy import stats"
   ]
  },
  {
   "cell_type": "code",
   "execution_count": 3,
   "metadata": {},
   "outputs": [],
   "source": [
    "import warnings\n",
    "warnings.simplefilter('ignore')"
   ]
  },
  {
   "cell_type": "code",
   "execution_count": 4,
   "metadata": {
    "id": "AeF39e4QuaSy"
   },
   "outputs": [],
   "source": [
    "pd.set_option('display.max_columns', 500)\n",
    "pd.set_option('display.max_rows', 500)"
   ]
  },
  {
   "cell_type": "markdown",
   "metadata": {
    "id": "Zi1Z44qRuaSy"
   },
   "source": [
    "### Read the dataset for churn"
   ]
  },
  {
   "cell_type": "code",
   "execution_count": 5,
   "metadata": {
    "id": "EseTaleyuaS0"
   },
   "outputs": [],
   "source": [
    "df = pd.read_csv(\"new_variant_1.csv\")"
   ]
  },
  {
   "cell_type": "code",
   "execution_count": 6,
   "metadata": {},
   "outputs": [
    {
     "name": "stdout",
     "output_type": "stream",
     "text": [
      "<class 'pandas.core.frame.DataFrame'>\n",
      "RangeIndex: 144148 entries, 0 to 144147\n",
      "Data columns (total 32 columns):\n",
      " #   Column                     Non-Null Count   Dtype  \n",
      "---  ------                     --------------   -----  \n",
      " 0   ID                         144148 non-null  int64  \n",
      " 1   loan_limit                 144148 non-null  int64  \n",
      " 2   Gender                     144148 non-null  int64  \n",
      " 3   approv_in_adv              144148 non-null  int64  \n",
      " 4   loan_type                  144148 non-null  int64  \n",
      " 5   loan_purpose               144148 non-null  int64  \n",
      " 6   Credit_Worthiness          144148 non-null  int64  \n",
      " 7   open_credit                144148 non-null  int64  \n",
      " 8   business_or_commercial     144148 non-null  int64  \n",
      " 9   loan_amount                144148 non-null  float64\n",
      " 10  rate_of_interest           144148 non-null  float64\n",
      " 11  Interest_rate_spread       144148 non-null  float64\n",
      " 12  Upfront_charges            144148 non-null  float64\n",
      " 13  term                       144148 non-null  float64\n",
      " 14  Neg_ammortization          144148 non-null  int64  \n",
      " 15  interest_only              144148 non-null  int64  \n",
      " 16  lump_sum_payment           144148 non-null  int64  \n",
      " 17  property_value             144148 non-null  float64\n",
      " 18  construction_type          144148 non-null  int64  \n",
      " 19  occupancy_type             144148 non-null  int64  \n",
      " 20  Secured_by                 144148 non-null  int64  \n",
      " 21  total_units                144148 non-null  int64  \n",
      " 22  income                     144148 non-null  float64\n",
      " 23  credit_type                144148 non-null  int64  \n",
      " 24  Credit_Score               144148 non-null  int64  \n",
      " 25  co-applicant_credit_type   144148 non-null  int64  \n",
      " 26  age                        144148 non-null  int64  \n",
      " 27  submission_of_application  144148 non-null  int64  \n",
      " 28  LTV                        144148 non-null  float64\n",
      " 29  Region                     144148 non-null  int64  \n",
      " 30  Security_Type              144148 non-null  int64  \n",
      " 31  Status                     144148 non-null  object \n",
      "dtypes: float64(8), int64(23), object(1)\n",
      "memory usage: 35.2+ MB\n"
     ]
    }
   ],
   "source": [
    "df.info()"
   ]
  },
  {
   "cell_type": "markdown",
   "metadata": {
    "id": "CI2--S50uaS4"
   },
   "source": [
    "# Modelling"
   ]
  },
  {
   "cell_type": "markdown",
   "metadata": {
    "id": "agmrkrMfuaS4"
   },
   "source": [
    "## Classification"
   ]
  },
  {
   "cell_type": "code",
   "execution_count": 19,
   "metadata": {
    "id": "7rAdVKjQuaS4"
   },
   "outputs": [],
   "source": [
    "from sklearn.linear_model import LogisticRegression\n",
    "from sklearn.svm import SVC\n",
    "from sklearn.naive_bayes import GaussianNB\n",
    "from sklearn.linear_model import SGDClassifier\n",
    "from sklearn.neighbors import KNeighborsClassifier\n",
    "from sklearn.tree import DecisionTreeClassifier\n",
    "from sklearn.ensemble import RandomForestClassifier\n",
    "from sklearn.ensemble import GradientBoostingClassifier\n",
    "\n",
    "from sklearn.model_selection import train_test_split\n",
    "\n",
    "from sklearn import metrics"
   ]
  },
  {
   "cell_type": "markdown",
   "metadata": {
    "id": "fiV6xNQOuaS4"
   },
   "source": [
    "#### Define target and features columns"
   ]
  },
  {
   "cell_type": "code",
   "execution_count": 8,
   "metadata": {
    "id": "ZiM64FoZuaS4"
   },
   "outputs": [],
   "source": [
    "X = df.drop(columns='Status')\n",
    "y = df['Status']"
   ]
  },
  {
   "cell_type": "markdown",
   "metadata": {
    "id": "y3JdCH7cuaS4"
   },
   "source": [
    "#### Train test set split"
   ]
  },
  {
   "cell_type": "markdown",
   "metadata": {},
   "source": [
    "Для оцінки моделей використовуються наступні метрики:\n",
    "\n",
    "Accuracy (Точність) - це частка правильних прогнозів серед усіх прикладів. Для збалансованих наборів даних, де класи приблизно рівні за кількістю, точність є хорошим показником. Однак для незбалансованих даних (де один клас переважає), точність може бути неправильною, оскільки модель може правильно передбачати переважний клас і все одно мати високу точність.\n",
    "\n",
    "Recall (Повнота) - це частка правильно передбачених позитивних прикладів серед усіх реальних позитивних прикладів. У задачах, де важливо мінімізувати пропуск важливих випадків (наприклад, коли потрібно ідентифікувати шахрайство), повнота є ключовою метрикою.\n",
    "\n",
    "F1-міра - це середнє гармонійне між точністю і повнотою. F1-міра особливо корисна в ситуаціях, де дані є незбалансованими, і потрібно знайти баланс між правильною класифікацією позитивних і негативних класів."
   ]
  },
  {
   "cell_type": "code",
   "execution_count": 9,
   "metadata": {
    "id": "6NzgxfuSuaS4"
   },
   "outputs": [],
   "source": [
    "X_train, X_test, y_train, y_test = train_test_split(X, y, test_size=0.2, random_state=42)"
   ]
  },
  {
   "cell_type": "code",
   "execution_count": 10,
   "metadata": {
    "colab": {
     "base_uri": "https://localhost:8080/"
    },
    "executionInfo": {
     "elapsed": 785,
     "status": "ok",
     "timestamp": 1678572696342,
     "user": {
      "displayName": "Ольга Нарушинська",
      "userId": "17109802701742785659"
     },
     "user_tz": -120
    },
    "id": "O2T61OlZuaS5",
    "outputId": "41774ae5-5349-43be-e48d-fd7e9ef9f772"
   },
   "outputs": [
    {
     "name": "stdout",
     "output_type": "stream",
     "text": [
      "              precision    recall  f1-score   support\n",
      "\n",
      "          No       0.32      0.62      0.42      7109\n",
      "         Yes       0.82      0.58      0.68     21721\n",
      "\n",
      "    accuracy                           0.59     28830\n",
      "   macro avg       0.57      0.60      0.55     28830\n",
      "weighted avg       0.70      0.59      0.61     28830\n",
      "\n"
     ]
    }
   ],
   "source": [
    "# Let's train logistic regression with default parameters\n",
    "\n",
    "reg_log = LogisticRegression(class_weight='balanced')\n",
    "reg_log.fit(X_train, y_train)\n",
    "y_pred = reg_log.predict(X_test)\n",
    "print(metrics.classification_report(y_test, y_pred))"
   ]
  },
  {
   "cell_type": "markdown",
   "metadata": {},
   "source": [
    "Дана модель, SVC, не використовується у зв'язку із великою кількістю даних та дуже довгим процесом навчання"
   ]
  },
  {
   "cell_type": "code",
   "execution_count": null,
   "metadata": {
    "colab": {
     "base_uri": "https://localhost:8080/"
    },
    "executionInfo": {
     "elapsed": 329596,
     "status": "ok",
     "timestamp": 1678573025936,
     "user": {
      "displayName": "Ольга Нарушинська",
      "userId": "17109802701742785659"
     },
     "user_tz": -120
    },
    "id": "hw-ypjAauaS5",
    "outputId": "f7dbc6e3-1751-4198-ad8e-67bbd89c8305"
   },
   "outputs": [],
   "source": [
    "# Let's train SVC with default parameters\n",
    "\n",
    "# svc_classifier = SVC()\n",
    "# svc_classifier.fit(X_train, y_train)\n",
    "# y_pred = svc_classifier.predict(X_test)\n",
    "# print(metrics.classification_report(y_test, y_pred))"
   ]
  },
  {
   "cell_type": "code",
   "execution_count": 35,
   "metadata": {
    "colab": {
     "base_uri": "https://localhost:8080/"
    },
    "executionInfo": {
     "elapsed": 13,
     "status": "ok",
     "timestamp": 1678573025937,
     "user": {
      "displayName": "Ольга Нарушинська",
      "userId": "17109802701742785659"
     },
     "user_tz": -120
    },
    "id": "dJDv9KFVuaS5",
    "outputId": "ef4634c9-0a56-4534-81d9-e3b31095b926"
   },
   "outputs": [
    {
     "name": "stdout",
     "output_type": "stream",
     "text": [
      "              precision    recall  f1-score   support\n",
      "\n",
      "          No       0.70      0.02      0.03      7109\n",
      "         Yes       0.76      1.00      0.86     21721\n",
      "\n",
      "    accuracy                           0.76     28830\n",
      "   macro avg       0.73      0.51      0.45     28830\n",
      "weighted avg       0.74      0.76      0.66     28830\n",
      "\n"
     ]
    }
   ],
   "source": [
    "# Let's train GaussianNB with default parameters\n",
    "# За допомогою теореми Байєса розраховуємо апостеріорну ймовірність.\n",
    "\n",
    "gnb_classifier = GaussianNB()\n",
    "gnb_classifier.fit(X_train, y_train)\n",
    "y_pred = gnb_classifier.predict(X_test)\n",
    "print(metrics.classification_report(y_test, y_pred))"
   ]
  },
  {
   "cell_type": "code",
   "execution_count": 14,
   "metadata": {
    "colab": {
     "base_uri": "https://localhost:8080/"
    },
    "executionInfo": {
     "elapsed": 5238,
     "status": "ok",
     "timestamp": 1678573035310,
     "user": {
      "displayName": "Ольга Нарушинська",
      "userId": "17109802701742785659"
     },
     "user_tz": -120
    },
    "id": "pStoB6a7uaS5",
    "outputId": "5066411e-d69b-4ec4-9c37-9a0b1fb169dc"
   },
   "outputs": [
    {
     "name": "stdout",
     "output_type": "stream",
     "text": [
      "              precision    recall  f1-score   support\n",
      "\n",
      "          No       0.26      0.13      0.17      7109\n",
      "         Yes       0.76      0.88      0.81     21721\n",
      "\n",
      "    accuracy                           0.69     28830\n",
      "   macro avg       0.51      0.50      0.49     28830\n",
      "weighted avg       0.63      0.69      0.65     28830\n",
      "\n"
     ]
    }
   ],
   "source": [
    "# Let's train KNeighborsClassifier with default parameters\n",
    "\n",
    "kn_classifier = KNeighborsClassifier(weights='distance')\n",
    "kn_classifier.fit(X_train, y_train)\n",
    "y_pred = kn_classifier.predict(X_test)\n",
    "print(metrics.classification_report(y_test, y_pred))"
   ]
  },
  {
   "cell_type": "code",
   "execution_count": 16,
   "metadata": {
    "colab": {
     "base_uri": "https://localhost:8080/"
    },
    "executionInfo": {
     "elapsed": 11483,
     "status": "ok",
     "timestamp": 1678573048245,
     "user": {
      "displayName": "Ольга Нарушинська",
      "userId": "17109802701742785659"
     },
     "user_tz": -120
    },
    "id": "-UXzcBlMuaS6",
    "outputId": "ef53594a-8ce6-4192-b095-c5f14efc0879"
   },
   "outputs": [
    {
     "name": "stdout",
     "output_type": "stream",
     "text": [
      "              precision    recall  f1-score   support\n",
      "\n",
      "          No       1.00      1.00      1.00      7109\n",
      "         Yes       1.00      1.00      1.00     21721\n",
      "\n",
      "    accuracy                           1.00     28830\n",
      "   macro avg       1.00      1.00      1.00     28830\n",
      "weighted avg       1.00      1.00      1.00     28830\n",
      "\n"
     ]
    }
   ],
   "source": [
    "# Let's train RandomForestClassifier with default parameters\n",
    "\n",
    "rf_classifier = RandomForestClassifier(class_weight='balanced')\n",
    "rf_classifier.fit(X_train, y_train)\n",
    "y_pred = rf_classifier.predict(X_test)\n",
    "print(metrics.classification_report(y_test, y_pred))"
   ]
  },
  {
   "cell_type": "markdown",
   "metadata": {
    "id": "s5HCJQ5puaS6"
   },
   "source": [
    "### Feature importances"
   ]
  },
  {
   "cell_type": "code",
   "execution_count": 12,
   "metadata": {},
   "outputs": [],
   "source": [
    "X_columns = df.columns.tolist()"
   ]
  },
  {
   "cell_type": "code",
   "execution_count": 13,
   "metadata": {},
   "outputs": [
    {
     "name": "stdout",
     "output_type": "stream",
     "text": [
      "Feature ranking:\n",
      "1. income (0.067727)\n",
      "2. Neg_ammortization (0.029638)\n",
      "3. property_value (0.027224)\n",
      "4. loan_amount (0.026125)\n",
      "5. loan_purpose (0.022548)\n",
      "6. business_or_commercial (0.020550)\n",
      "7. lump_sum_payment (0.020536)\n",
      "8. rate_of_interest (0.016615)\n",
      "9. approv_in_adv (0.008792)\n",
      "10. occupancy_type (0.008249)\n",
      "11. interest_only (0.006906)\n",
      "12. Interest_rate_spread (0.005213)\n",
      "13. construction_type (0.005116)\n",
      "14. Security_Type (0.005116)\n",
      "15. Credit_Score (0.002017)\n",
      "16. Upfront_charges (0.000380)\n",
      "17. open_credit (0.000006)\n",
      "18. ID (0.000001)\n",
      "19. Secured_by (-0.000236)\n",
      "20. LTV (-0.000796)\n",
      "21. term (-0.000806)\n",
      "22. total_units (-0.002963)\n",
      "23. Credit_Worthiness (-0.003944)\n",
      "24. loan_limit (-0.004323)\n",
      "25. loan_type (-0.014051)\n",
      "26. Gender (-0.018836)\n",
      "27. submission_of_application (-0.026829)\n",
      "28. Region (-0.028326)\n",
      "29. age (-0.029380)\n",
      "30. co-applicant_credit_type (-0.038127)\n",
      "31. credit_type (-0.067704)\n"
     ]
    }
   ],
   "source": [
    "from sklearn.linear_model import LogisticRegression\n",
    "\n",
    "model = LogisticRegression()\n",
    "model.fit(X_train, y_train)\n",
    "importances = model.coef_[0]\n",
    "indices = np.argsort(importances)[::-1]\n",
    "\n",
    "print(\"Feature ranking:\")\n",
    "for i in range(X_train.shape[1]):\n",
    "    print(\"%d. %s (%f)\" % (i + 1, X_columns[indices[i]], importances[indices[i]]))\n"
   ]
  },
  {
   "cell_type": "code",
   "execution_count": 17,
   "metadata": {},
   "outputs": [
    {
     "data": {
      "image/png": "[encoded data removed]",
      "text/plain": [
       "<Figure size 700x1200 with 1 Axes>"
      ]
     },
     "metadata": {},
     "output_type": "display_data"
    }
   ],
   "source": [
    "from sklearn.linear_model import LogisticRegression\n",
    "import numpy as np\n",
    "import matplotlib.pyplot as plt\n",
    "\n",
    "# Навчання моделі логістичної регресії\n",
    "model = LogisticRegression()\n",
    "model.fit(X_train, y_train)\n",
    "\n",
    "# Отримання коефіцієнтів\n",
    "importances = model.coef_[0]\n",
    "indices = np.argsort(importances)[::-1]\n",
    "\n",
    "# Побудова графіку важливості ознак\n",
    "plt.figure(figsize=(7, 12))\n",
    "plt.title('Feature Importances (Logistic Regression)')\n",
    "plt.barh(range(len(indices)), importances[indices], color='b', align='center')\n",
    "plt.yticks(range(len(indices)), [X_columns[i] for i in indices])\n",
    "plt.xlabel('Coefficient Value')\n",
    "plt.show()"
   ]
  },
  {
   "cell_type": "code",
   "execution_count": null,
   "metadata": {},
   "outputs": [],
   "source": []
  }
 ],
 "metadata": {
  "colab": {
   "provenance": []
  },
  "kernelspec": {
   "display_name": "Python 3 (ipykernel)",
   "language": "python",
   "name": "python3"
  },
  "language_info": {
   "codemirror_mode": {
    "name": "ipython",
    "version": 3
   },
   "file_extension": ".py",
   "mimetype": "text/x-python",
   "name": "python",
   "nbconvert_exporter": "python",
   "pygments_lexer": "ipython3",
   "version": "3.11.1"
  },
  "vscode": {
   "interpreter": {
    "hash": "7172106abc92638029cd8423ee47f98336618e2f42ec4b056b806f415585df73"
   }
  }
 },
 "nbformat": 4,
 "nbformat_minor": 4
}
