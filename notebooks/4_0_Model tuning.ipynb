{
 "cells": [
  {
   "cell_type": "markdown",
   "metadata": {},
   "source": [
    "# Звіт до лабораторної роботи №4 (Сенчак Павло ОІ-21сп)"
   ]
  },
  {
   "cell_type": "code",
   "execution_count": 2,
   "metadata": {
    "executionInfo": {
     "elapsed": 2413,
     "status": "ok",
     "timestamp": 1678573498959,
     "user": {
      "displayName": "Ольга Нарушинська",
      "userId": "17109802701742785659"
     },
     "user_tz": -120
    },
    "id": "yEititKbxrYC"
   },
   "outputs": [],
   "source": [
    "import pandas as pd\n",
    "import numpy as np\n",
    "import matplotlib.pyplot as plt\n",
    "import seaborn as sns\n",
    "from scipy import stats\n",
    "from sklearn.ensemble import RandomForestClassifier\n",
    "from sklearn.model_selection import GridSearchCV\n",
    "from sklearn.naive_bayes import GaussianNB\n",
    "from sklearn.linear_model import LogisticRegression\n",
    "from sklearn.linear_model import SGDClassifier\n",
    "from sklearn.neighbors import KNeighborsClassifier\n",
    "from sklearn import metrics\n",
    "from sklearn.model_selection import train_test_split"
   ]
  },
  {
   "cell_type": "code",
   "execution_count": 3,
   "metadata": {
    "executionInfo": {
     "elapsed": 258,
     "status": "ok",
     "timestamp": 1678573537081,
     "user": {
      "displayName": "Ольга Нарушинська",
      "userId": "17109802701742785659"
     },
     "user_tz": -120
    },
    "id": "NaeCBRuSxrYD"
   },
   "outputs": [],
   "source": [
    "import warnings\n",
    "warnings.simplefilter('ignore')"
   ]
  },
  {
   "cell_type": "code",
   "execution_count": 4,
   "metadata": {
    "executionInfo": {
     "elapsed": 2,
     "status": "ok",
     "timestamp": 1678573537338,
     "user": {
      "displayName": "Ольга Нарушинська",
      "userId": "17109802701742785659"
     },
     "user_tz": -120
    },
    "id": "8YBDj5i5xrYE"
   },
   "outputs": [],
   "source": [
    "pd.set_option('display.max_columns', 500)\n",
    "pd.set_option('display.max_rows', 500)"
   ]
  },
  {
   "cell_type": "markdown",
   "metadata": {
    "id": "wa2XpH6YxrYE"
   },
   "source": [
    "### Read the dataset for churn "
   ]
  },
  {
   "cell_type": "code",
   "execution_count": 5,
   "metadata": {
    "executionInfo": {
     "elapsed": 1892,
     "status": "ok",
     "timestamp": 1678573544362,
     "user": {
      "displayName": "Ольга Нарушинська",
      "userId": "17109802701742785659"
     },
     "user_tz": -120
    },
    "id": "IN74PgEDxrYF"
   },
   "outputs": [],
   "source": [
    "df = pd.read_csv(\"new_variant_1.csv\")"
   ]
  },
  {
   "cell_type": "markdown",
   "metadata": {
    "id": "nuTC_CPWxrYJ"
   },
   "source": [
    "# Model tuning\n"
   ]
  },
  {
   "cell_type": "markdown",
   "metadata": {
    "id": "A_zfqEmgxrYJ"
   },
   "source": [
    "#### Parameters vs Hyperparameters\n",
    "Параметр можна вважати внутрішнім для моделі та його можна отримати після того, як модель навчилася на даних. Прикладами параметрів є коефіцієнти регресії в лінійній регресії, опорні вектори в машинах опорних векторів та ваги в нейронних мережах.\n",
    "\n",
    "Гіперпараметр можна вважати зовнішнім для моделі та його може встановлювати фахівець на власний розсуд. Прикладами гіперпараметрів є k в алгоритмі k-ближчих сусідів, кількість дерев та максимальна кількість ознак в алгоритмі випадкового лісу, швидкість навчання та момент в нейронних мережах, параметри C та гамма в машинах опорних векторів."
   ]
  },
  {
   "cell_type": "markdown",
   "metadata": {
    "id": "M0OIcJ59xrYK"
   },
   "source": [
    "#### Define target and features columns"
   ]
  },
  {
   "cell_type": "code",
   "execution_count": 6,
   "metadata": {
    "executionInfo": {
     "elapsed": 2,
     "status": "ok",
     "timestamp": 1678573553290,
     "user": {
      "displayName": "Ольга Нарушинська",
      "userId": "17109802701742785659"
     },
     "user_tz": -120
    },
    "id": "eAeQyeQdxrYK"
   },
   "outputs": [],
   "source": [
    "X = df.drop(columns='Status')\n",
    "y = df['Status']"
   ]
  },
  {
   "cell_type": "code",
   "execution_count": 7,
   "metadata": {
    "colab": {
     "base_uri": "https://localhost:8080/"
    },
    "executionInfo": {
     "elapsed": 2,
     "status": "ok",
     "timestamp": 1678573553551,
     "user": {
      "displayName": "Ольга Нарушинська",
      "userId": "17109802701742785659"
     },
     "user_tz": -120
    },
    "id": "7DKGSApmxrYK",
    "outputId": "4b869138-2fe2-4c28-ec48-3053fef5ce49"
   },
   "outputs": [
    {
     "name": "stdout",
     "output_type": "stream",
     "text": [
      "(115318, 31)\n",
      "(115318,)\n",
      "(28830, 31)\n",
      "(28830,)\n"
     ]
    }
   ],
   "source": [
    "# Let's say we want to split the data in 80:10:10 for train:valid:test dataset\n",
    "# In the first step we will split the data in training and remaining dataset\n",
    "X_train, X_test, y_train, y_test = train_test_split(X,y, train_size=0.8)\n",
    "\n",
    "print(X_train.shape)\n",
    "print(y_train.shape)\n",
    "print(X_test.shape)\n",
    "print(y_test.shape)\n"
   ]
  },
  {
   "cell_type": "markdown",
   "metadata": {
    "id": "qfUT_7BYxrYL"
   },
   "source": [
    "#### Building a Baseline LogisticRegression Model"
   ]
  },
  {
   "cell_type": "code",
   "execution_count": 8,
   "metadata": {
    "executionInfo": {
     "elapsed": 2,
     "status": "ok",
     "timestamp": 1678573554785,
     "user": {
      "displayName": "Ольга Нарушинська",
      "userId": "17109802701742785659"
     },
     "user_tz": -120
    },
    "id": "3vEex5VnxrYL"
   },
   "outputs": [],
   "source": [
    "lr = LogisticRegression(class_weight='balanced')"
   ]
  },
  {
   "cell_type": "code",
   "execution_count": 9,
   "metadata": {
    "executionInfo": {
     "elapsed": 9842,
     "status": "ok",
     "timestamp": 1678573565325,
     "user": {
      "displayName": "Ольга Нарушинська",
      "userId": "17109802701742785659"
     },
     "user_tz": -120
    },
    "id": "CStIbaTqxrYL"
   },
   "outputs": [],
   "source": [
    "lr.fit(X_train, y_train)\n",
    "y_pred = lr.predict(X_test)"
   ]
  },
  {
   "cell_type": "code",
   "execution_count": 10,
   "metadata": {
    "colab": {
     "base_uri": "https://localhost:8080/"
    },
    "executionInfo": {
     "elapsed": 10,
     "status": "ok",
     "timestamp": 1678573565326,
     "user": {
      "displayName": "Ольга Нарушинська",
      "userId": "17109802701742785659"
     },
     "user_tz": -120
    },
    "id": "VWAmRCUmxrYL",
    "outputId": "281e51df-95cb-43ec-e102-eded445530cb"
   },
   "outputs": [
    {
     "name": "stdout",
     "output_type": "stream",
     "text": [
      "test set metrics: \n",
      "               precision    recall  f1-score   support\n",
      "\n",
      "          No       0.32      0.62      0.43      7030\n",
      "         Yes       0.83      0.58      0.68     21800\n",
      "\n",
      "    accuracy                           0.59     28830\n",
      "   macro avg       0.58      0.60      0.55     28830\n",
      "weighted avg       0.70      0.59      0.62     28830\n",
      "\n"
     ]
    }
   ],
   "source": [
    "print('test set metrics: \\n', metrics.classification_report(y_test, y_pred))"
   ]
  },
  {
   "cell_type": "code",
   "execution_count": 11,
   "metadata": {
    "colab": {
     "base_uri": "https://localhost:8080/"
    },
    "executionInfo": {
     "elapsed": 9,
     "status": "ok",
     "timestamp": 1678573565326,
     "user": {
      "displayName": "Ольга Нарушинська",
      "userId": "17109802701742785659"
     },
     "user_tz": -120
    },
    "id": "tRgdPYUbxrYL",
    "outputId": "3931fef3-a0fe-43ec-a6f3-ca86cb8863f9"
   },
   "outputs": [
    {
     "data": {
      "text/plain": [
       "{'C': 1.0,\n",
       " 'class_weight': 'balanced',\n",
       " 'dual': False,\n",
       " 'fit_intercept': True,\n",
       " 'intercept_scaling': 1,\n",
       " 'l1_ratio': None,\n",
       " 'max_iter': 100,\n",
       " 'multi_class': 'deprecated',\n",
       " 'n_jobs': None,\n",
       " 'penalty': 'l2',\n",
       " 'random_state': None,\n",
       " 'solver': 'lbfgs',\n",
       " 'tol': 0.0001,\n",
       " 'verbose': 0,\n",
       " 'warm_start': False}"
      ]
     },
     "execution_count": 11,
     "metadata": {},
     "output_type": "execute_result"
    }
   ],
   "source": [
    "lr.get_params()"
   ]
  },
  {
   "cell_type": "markdown",
   "metadata": {
    "id": "yd-s8zgTxrYL"
   },
   "source": [
    "#### Hyperparameter Tuning\n",
    "Now we will be performing the tuning of hyperparameters of the LogisticRegression model. "
   ]
  },
  {
   "cell_type": "code",
   "execution_count": 20,
   "metadata": {},
   "outputs": [
    {
     "data": {
      "text/plain": [
       "Status\n",
       "Yes    108729\n",
       "No      35419\n",
       "Name: count, dtype: int64"
      ]
     },
     "execution_count": 20,
     "metadata": {},
     "output_type": "execute_result"
    }
   ],
   "source": [
    "df['Status'].value_counts()"
   ]
  },
  {
   "cell_type": "code",
   "execution_count": 25,
   "metadata": {},
   "outputs": [
    {
     "name": "stdout",
     "output_type": "stream",
     "text": [
      "{'Yes': 1.32575485840944, 'No': 4.069793048928541}\n"
     ]
    }
   ],
   "source": [
    "total_count = 144148  # 108729 + 35419\n",
    "weight_yes = total_count / 108729  # 1.32\n",
    "weight_no = total_count / 35419  # 4.07\n",
    "\n",
    "class_weights = {'Yes': weight_yes, 'No': weight_no}\n",
    "print(class_weights)  # Виведе приблизно {'Yes': 1.32, 'No': 4.07}"
   ]
  },
  {
   "cell_type": "code",
   "execution_count": 40,
   "metadata": {
    "colab": {
     "base_uri": "https://localhost:8080/"
    },
    "executionInfo": {
     "elapsed": 3637361,
     "status": "ok",
     "timestamp": 1678577202681,
     "user": {
      "displayName": "Ольга Нарушинська",
      "userId": "17109802701742785659"
     },
     "user_tz": -120
    },
    "id": "-qdnkhd-xrYM",
    "outputId": "afd05804-26cc-4dfd-e028-78767fb086b2",
    "scrolled": true
   },
   "outputs": [
    {
     "name": "stdout",
     "output_type": "stream",
     "text": [
      "Fitting 5 folds for each of 64 candidates, totalling 320 fits\n",
      "[CV 1/5] END C=0.01, class_weight=balanced, max_iter=100, penalty=l1, solver=liblinear;, score=(train=0.684, test=0.684) total time=   4.0s\n",
      "[CV 2/5] END C=0.01, class_weight=balanced, max_iter=100, penalty=l1, solver=liblinear;, score=(train=0.681, test=0.678) total time=   3.5s\n",
      "[CV 3/5] END C=0.01, class_weight=balanced, max_iter=100, penalty=l1, solver=liblinear;, score=(train=0.684, test=0.685) total time=   5.1s\n",
      "[CV 4/5] END C=0.01, class_weight=balanced, max_iter=100, penalty=l1, solver=liblinear;, score=(train=0.682, test=0.684) total time=   4.9s\n",
      "[CV 5/5] END C=0.01, class_weight=balanced, max_iter=100, penalty=l1, solver=liblinear;, score=(train=0.684, test=0.683) total time=   3.8s\n",
      "[CV 1/5] END C=0.01, class_weight=balanced, max_iter=100, penalty=l1, solver=saga;, score=(train=0.486, test=0.482) total time=   4.0s\n",
      "[CV 2/5] END C=0.01, class_weight=balanced, max_iter=100, penalty=l1, solver=saga;, score=(train=0.483, test=0.481) total time=   4.0s\n",
      "[CV 3/5] END C=0.01, class_weight=balanced, max_iter=100, penalty=l1, solver=saga;, score=(train=0.480, test=0.482) total time=   4.0s\n",
      "[CV 4/5] END C=0.01, class_weight=balanced, max_iter=100, penalty=l1, solver=saga;, score=(train=0.461, test=0.465) total time=   4.0s\n",
      "[CV 5/5] END C=0.01, class_weight=balanced, max_iter=100, penalty=l1, solver=saga;, score=(train=0.455, test=0.451) total time=   4.0s\n",
      "[CV 1/5] END C=0.01, class_weight=balanced, max_iter=100, penalty=l2, solver=liblinear;, score=(train=0.684, test=0.682) total time=   1.6s\n",
      "[CV 2/5] END C=0.01, class_weight=balanced, max_iter=100, penalty=l2, solver=liblinear;, score=(train=0.681, test=0.679) total time=   1.6s\n",
      "[CV 3/5] END C=0.01, class_weight=balanced, max_iter=100, penalty=l2, solver=liblinear;, score=(train=0.683, test=0.684) total time=   1.6s\n",
      "[CV 4/5] END C=0.01, class_weight=balanced, max_iter=100, penalty=l2, solver=liblinear;, score=(train=0.682, test=0.685) total time=   1.5s\n",
      "[CV 5/5] END C=0.01, class_weight=balanced, max_iter=100, penalty=l2, solver=liblinear;, score=(train=0.684, test=0.681) total time=   1.5s\n",
      "[CV 1/5] END C=0.01, class_weight=balanced, max_iter=100, penalty=l2, solver=saga;, score=(train=0.486, test=0.482) total time=   3.1s\n",
      "[CV 2/5] END C=0.01, class_weight=balanced, max_iter=100, penalty=l2, solver=saga;, score=(train=0.483, test=0.480) total time=   3.1s\n",
      "[CV 3/5] END C=0.01, class_weight=balanced, max_iter=100, penalty=l2, solver=saga;, score=(train=0.478, test=0.480) total time=   3.2s\n",
      "[CV 4/5] END C=0.01, class_weight=balanced, max_iter=100, penalty=l2, solver=saga;, score=(train=0.462, test=0.467) total time=   3.2s\n",
      "[CV 5/5] END C=0.01, class_weight=balanced, max_iter=100, penalty=l2, solver=saga;, score=(train=0.456, test=0.452) total time=   3.2s\n",
      "[CV 1/5] END C=0.01, class_weight=balanced, max_iter=200, penalty=l1, solver=liblinear;, score=(train=0.684, test=0.684) total time=   3.0s\n",
      "[CV 2/5] END C=0.01, class_weight=balanced, max_iter=200, penalty=l1, solver=liblinear;, score=(train=0.681, test=0.678) total time=   3.9s\n",
      "[CV 3/5] END C=0.01, class_weight=balanced, max_iter=200, penalty=l1, solver=liblinear;, score=(train=0.684, test=0.685) total time=   4.8s\n",
      "[CV 4/5] END C=0.01, class_weight=balanced, max_iter=200, penalty=l1, solver=liblinear;, score=(train=0.682, test=0.684) total time=   5.0s\n",
      "[CV 5/5] END C=0.01, class_weight=balanced, max_iter=200, penalty=l1, solver=liblinear;, score=(train=0.684, test=0.683) total time=   4.0s\n",
      "[CV 1/5] END C=0.01, class_weight=balanced, max_iter=200, penalty=l1, solver=saga;, score=(train=0.487, test=0.486) total time=   7.9s\n",
      "[CV 2/5] END C=0.01, class_weight=balanced, max_iter=200, penalty=l1, solver=saga;, score=(train=0.486, test=0.481) total time=   8.0s\n",
      "[CV 3/5] END C=0.01, class_weight=balanced, max_iter=200, penalty=l1, solver=saga;, score=(train=0.481, test=0.481) total time=   7.9s\n",
      "[CV 4/5] END C=0.01, class_weight=balanced, max_iter=200, penalty=l1, solver=saga;, score=(train=0.469, test=0.476) total time=   7.9s\n",
      "[CV 5/5] END C=0.01, class_weight=balanced, max_iter=200, penalty=l1, solver=saga;, score=(train=0.464, test=0.463) total time=   7.9s\n",
      "[CV 1/5] END C=0.01, class_weight=balanced, max_iter=200, penalty=l2, solver=liblinear;, score=(train=0.684, test=0.682) total time=   1.5s\n",
      "[CV 2/5] END C=0.01, class_weight=balanced, max_iter=200, penalty=l2, solver=liblinear;, score=(train=0.681, test=0.679) total time=   1.5s\n",
      "[CV 3/5] END C=0.01, class_weight=balanced, max_iter=200, penalty=l2, solver=liblinear;, score=(train=0.683, test=0.684) total time=   1.5s\n",
      "[CV 4/5] END C=0.01, class_weight=balanced, max_iter=200, penalty=l2, solver=liblinear;, score=(train=0.682, test=0.685) total time=   1.6s\n",
      "[CV 5/5] END C=0.01, class_weight=balanced, max_iter=200, penalty=l2, solver=liblinear;, score=(train=0.684, test=0.681) total time=   1.6s\n",
      "[CV 1/5] END C=0.01, class_weight=balanced, max_iter=200, penalty=l2, solver=saga;, score=(train=0.488, test=0.486) total time=   6.3s\n",
      "[CV 2/5] END C=0.01, class_weight=balanced, max_iter=200, penalty=l2, solver=saga;, score=(train=0.486, test=0.481) total time=   6.3s\n",
      "[CV 3/5] END C=0.01, class_weight=balanced, max_iter=200, penalty=l2, solver=saga;, score=(train=0.482, test=0.481) total time=   6.3s\n",
      "[CV 4/5] END C=0.01, class_weight=balanced, max_iter=200, penalty=l2, solver=saga;, score=(train=0.470, test=0.477) total time=   6.2s\n",
      "[CV 5/5] END C=0.01, class_weight=balanced, max_iter=200, penalty=l2, solver=saga;, score=(train=0.465, test=0.463) total time=   6.3s\n",
      "[CV 1/5] END C=0.01, class_weight=balanced, max_iter=300, penalty=l1, solver=liblinear;, score=(train=0.684, test=0.684) total time=   3.6s\n",
      "[CV 2/5] END C=0.01, class_weight=balanced, max_iter=300, penalty=l1, solver=liblinear;, score=(train=0.681, test=0.678) total time=   3.5s\n",
      "[CV 3/5] END C=0.01, class_weight=balanced, max_iter=300, penalty=l1, solver=liblinear;, score=(train=0.684, test=0.685) total time=   3.8s\n",
      "[CV 4/5] END C=0.01, class_weight=balanced, max_iter=300, penalty=l1, solver=liblinear;, score=(train=0.682, test=0.684) total time=   3.8s\n",
      "[CV 5/5] END C=0.01, class_weight=balanced, max_iter=300, penalty=l1, solver=liblinear;, score=(train=0.684, test=0.683) total time=   4.0s\n",
      "[CV 1/5] END C=0.01, class_weight=balanced, max_iter=300, penalty=l1, solver=saga;, score=(train=0.488, test=0.487) total time=  12.0s\n",
      "[CV 2/5] END C=0.01, class_weight=balanced, max_iter=300, penalty=l1, solver=saga;, score=(train=0.486, test=0.481) total time=  12.1s\n",
      "[CV 3/5] END C=0.01, class_weight=balanced, max_iter=300, penalty=l1, solver=saga;, score=(train=0.484, test=0.482) total time=  12.0s\n",
      "[CV 4/5] END C=0.01, class_weight=balanced, max_iter=300, penalty=l1, solver=saga;, score=(train=0.470, test=0.475) total time=  11.8s\n",
      "[CV 5/5] END C=0.01, class_weight=balanced, max_iter=300, penalty=l1, solver=saga;, score=(train=0.467, test=0.464) total time=  11.9s\n",
      "[CV 1/5] END C=0.01, class_weight=balanced, max_iter=300, penalty=l2, solver=liblinear;, score=(train=0.684, test=0.682) total time=   1.5s\n",
      "[CV 2/5] END C=0.01, class_weight=balanced, max_iter=300, penalty=l2, solver=liblinear;, score=(train=0.681, test=0.679) total time=   1.5s\n",
      "[CV 3/5] END C=0.01, class_weight=balanced, max_iter=300, penalty=l2, solver=liblinear;, score=(train=0.683, test=0.684) total time=   1.5s\n",
      "[CV 4/5] END C=0.01, class_weight=balanced, max_iter=300, penalty=l2, solver=liblinear;, score=(train=0.682, test=0.685) total time=   1.6s\n",
      "[CV 5/5] END C=0.01, class_weight=balanced, max_iter=300, penalty=l2, solver=liblinear;, score=(train=0.684, test=0.681) total time=   1.6s\n",
      "[CV 1/5] END C=0.01, class_weight=balanced, max_iter=300, penalty=l2, solver=saga;, score=(train=0.488, test=0.487) total time=   9.4s\n",
      "[CV 2/5] END C=0.01, class_weight=balanced, max_iter=300, penalty=l2, solver=saga;, score=(train=0.487, test=0.483) total time=   9.4s\n",
      "[CV 3/5] END C=0.01, class_weight=balanced, max_iter=300, penalty=l2, solver=saga;, score=(train=0.484, test=0.482) total time=   9.3s\n",
      "[CV 4/5] END C=0.01, class_weight=balanced, max_iter=300, penalty=l2, solver=saga;, score=(train=0.470, test=0.475) total time=   9.3s\n",
      "[CV 5/5] END C=0.01, class_weight=balanced, max_iter=300, penalty=l2, solver=saga;, score=(train=0.467, test=0.464) total time=   9.3s\n",
      "[CV 1/5] END C=0.01, class_weight=balanced, max_iter=500, penalty=l1, solver=liblinear;, score=(train=0.684, test=0.684) total time=   3.1s\n",
      "[CV 2/5] END C=0.01, class_weight=balanced, max_iter=500, penalty=l1, solver=liblinear;, score=(train=0.681, test=0.677) total time=   2.4s\n",
      "[CV 3/5] END C=0.01, class_weight=balanced, max_iter=500, penalty=l1, solver=liblinear;, score=(train=0.684, test=0.685) total time=   3.6s\n",
      "[CV 4/5] END C=0.01, class_weight=balanced, max_iter=500, penalty=l1, solver=liblinear;, score=(train=0.682, test=0.684) total time=   4.5s\n",
      "[CV 5/5] END C=0.01, class_weight=balanced, max_iter=500, penalty=l1, solver=liblinear;, score=(train=0.684, test=0.683) total time=   5.9s\n",
      "[CV 1/5] END C=0.01, class_weight=balanced, max_iter=500, penalty=l1, solver=saga;, score=(train=0.488, test=0.491) total time=  19.7s\n",
      "[CV 2/5] END C=0.01, class_weight=balanced, max_iter=500, penalty=l1, solver=saga;, score=(train=0.484, test=0.480) total time=  19.6s\n",
      "[CV 3/5] END C=0.01, class_weight=balanced, max_iter=500, penalty=l1, solver=saga;, score=(train=0.486, test=0.484) total time=  19.6s\n",
      "[CV 4/5] END C=0.01, class_weight=balanced, max_iter=500, penalty=l1, solver=saga;, score=(train=0.468, test=0.472) total time=  19.6s\n",
      "[CV 5/5] END C=0.01, class_weight=balanced, max_iter=500, penalty=l1, solver=saga;, score=(train=0.473, test=0.472) total time=  19.6s\n",
      "[CV 1/5] END C=0.01, class_weight=balanced, max_iter=500, penalty=l2, solver=liblinear;, score=(train=0.684, test=0.682) total time=   1.5s\n",
      "[CV 2/5] END C=0.01, class_weight=balanced, max_iter=500, penalty=l2, solver=liblinear;, score=(train=0.681, test=0.679) total time=   1.5s\n",
      "[CV 3/5] END C=0.01, class_weight=balanced, max_iter=500, penalty=l2, solver=liblinear;, score=(train=0.683, test=0.684) total time=   1.5s\n",
      "[CV 4/5] END C=0.01, class_weight=balanced, max_iter=500, penalty=l2, solver=liblinear;, score=(train=0.682, test=0.685) total time=   1.5s\n",
      "[CV 5/5] END C=0.01, class_weight=balanced, max_iter=500, penalty=l2, solver=liblinear;, score=(train=0.684, test=0.681) total time=   1.5s\n",
      "[CV 1/5] END C=0.01, class_weight=balanced, max_iter=500, penalty=l2, solver=saga;, score=(train=0.488, test=0.491) total time=  16.0s\n",
      "[CV 2/5] END C=0.01, class_weight=balanced, max_iter=500, penalty=l2, solver=saga;, score=(train=0.484, test=0.480) total time=  15.5s\n",
      "[CV 3/5] END C=0.01, class_weight=balanced, max_iter=500, penalty=l2, solver=saga;, score=(train=0.486, test=0.484) total time=  15.4s\n",
      "[CV 4/5] END C=0.01, class_weight=balanced, max_iter=500, penalty=l2, solver=saga;, score=(train=0.468, test=0.473) total time=  15.5s\n",
      "[CV 5/5] END C=0.01, class_weight=balanced, max_iter=500, penalty=l2, solver=saga;, score=(train=0.473, test=0.472) total time=  15.6s\n",
      "[CV 1/5] END C=0.1, class_weight=balanced, max_iter=100, penalty=l1, solver=liblinear;, score=(train=0.687, test=0.686) total time=   3.0s\n",
      "[CV 2/5] END C=0.1, class_weight=balanced, max_iter=100, penalty=l1, solver=liblinear;, score=(train=0.684, test=0.684) total time=   4.8s\n",
      "[CV 3/5] END C=0.1, class_weight=balanced, max_iter=100, penalty=l1, solver=liblinear;, score=(train=0.687, test=0.687) total time=   7.6s\n",
      "[CV 4/5] END C=0.1, class_weight=balanced, max_iter=100, penalty=l1, solver=liblinear;, score=(train=0.684, test=0.688) total time=  21.4s\n",
      "[CV 5/5] END C=0.1, class_weight=balanced, max_iter=100, penalty=l1, solver=liblinear;, score=(train=0.686, test=0.684) total time=  21.3s\n",
      "[CV 1/5] END C=0.1, class_weight=balanced, max_iter=100, penalty=l1, solver=saga;, score=(train=0.487, test=0.482) total time=   4.1s\n",
      "[CV 2/5] END C=0.1, class_weight=balanced, max_iter=100, penalty=l1, solver=saga;, score=(train=0.482, test=0.480) total time=   4.1s\n",
      "[CV 3/5] END C=0.1, class_weight=balanced, max_iter=100, penalty=l1, solver=saga;, score=(train=0.476, test=0.478) total time=   4.1s\n",
      "[CV 4/5] END C=0.1, class_weight=balanced, max_iter=100, penalty=l1, solver=saga;, score=(train=0.463, test=0.467) total time=   4.1s\n",
      "[CV 5/5] END C=0.1, class_weight=balanced, max_iter=100, penalty=l1, solver=saga;, score=(train=0.455, test=0.451) total time=   4.1s\n",
      "[CV 1/5] END C=0.1, class_weight=balanced, max_iter=100, penalty=l2, solver=liblinear;, score=(train=0.686, test=0.685) total time=   1.7s\n",
      "[CV 2/5] END C=0.1, class_weight=balanced, max_iter=100, penalty=l2, solver=liblinear;, score=(train=0.684, test=0.683) total time=   1.7s\n",
      "[CV 3/5] END C=0.1, class_weight=balanced, max_iter=100, penalty=l2, solver=liblinear;, score=(train=0.687, test=0.686) total time=   1.9s\n",
      "[CV 4/5] END C=0.1, class_weight=balanced, max_iter=100, penalty=l2, solver=liblinear;, score=(train=0.684, test=0.687) total time=   2.0s\n",
      "[CV 5/5] END C=0.1, class_weight=balanced, max_iter=100, penalty=l2, solver=liblinear;, score=(train=0.686, test=0.684) total time=   2.0s\n",
      "[CV 1/5] END C=0.1, class_weight=balanced, max_iter=100, penalty=l2, solver=saga;, score=(train=0.487, test=0.482) total time=   3.1s\n",
      "[CV 2/5] END C=0.1, class_weight=balanced, max_iter=100, penalty=l2, solver=saga;, score=(train=0.484, test=0.481) total time=   3.1s\n",
      "[CV 3/5] END C=0.1, class_weight=balanced, max_iter=100, penalty=l2, solver=saga;, score=(train=0.478, test=0.481) total time=   3.2s\n",
      "[CV 4/5] END C=0.1, class_weight=balanced, max_iter=100, penalty=l2, solver=saga;, score=(train=0.461, test=0.465) total time=   3.2s\n",
      "[CV 5/5] END C=0.1, class_weight=balanced, max_iter=100, penalty=l2, solver=saga;, score=(train=0.455, test=0.451) total time=   3.2s\n",
      "[CV 1/5] END C=0.1, class_weight=balanced, max_iter=200, penalty=l1, solver=liblinear;, score=(train=0.687, test=0.686) total time=  26.1s\n",
      "[CV 2/5] END C=0.1, class_weight=balanced, max_iter=200, penalty=l1, solver=liblinear;, score=(train=0.684, test=0.684) total time=  10.8s\n",
      "[CV 3/5] END C=0.1, class_weight=balanced, max_iter=200, penalty=l1, solver=liblinear;, score=(train=0.687, test=0.687) total time=   3.5s\n",
      "[CV 4/5] END C=0.1, class_weight=balanced, max_iter=200, penalty=l1, solver=liblinear;, score=(train=0.684, test=0.688) total time=  13.7s\n",
      "[CV 5/5] END C=0.1, class_weight=balanced, max_iter=200, penalty=l1, solver=liblinear;, score=(train=0.686, test=0.684) total time=  26.2s\n",
      "[CV 1/5] END C=0.1, class_weight=balanced, max_iter=200, penalty=l1, solver=saga;, score=(train=0.487, test=0.486) total time=   8.1s\n",
      "[CV 2/5] END C=0.1, class_weight=balanced, max_iter=200, penalty=l1, solver=saga;, score=(train=0.486, test=0.482) total time=   8.1s\n",
      "[CV 3/5] END C=0.1, class_weight=balanced, max_iter=200, penalty=l1, solver=saga;, score=(train=0.482, test=0.481) total time=   8.1s\n",
      "[CV 4/5] END C=0.1, class_weight=balanced, max_iter=200, penalty=l1, solver=saga;, score=(train=0.469, test=0.476) total time=   8.1s\n",
      "[CV 5/5] END C=0.1, class_weight=balanced, max_iter=200, penalty=l1, solver=saga;, score=(train=0.464, test=0.463) total time=   8.1s\n",
      "[CV 1/5] END C=0.1, class_weight=balanced, max_iter=200, penalty=l2, solver=liblinear;, score=(train=0.686, test=0.685) total time=   1.7s\n",
      "[CV 2/5] END C=0.1, class_weight=balanced, max_iter=200, penalty=l2, solver=liblinear;, score=(train=0.684, test=0.683) total time=   1.8s\n",
      "[CV 3/5] END C=0.1, class_weight=balanced, max_iter=200, penalty=l2, solver=liblinear;, score=(train=0.687, test=0.686) total time=   1.9s\n",
      "[CV 4/5] END C=0.1, class_weight=balanced, max_iter=200, penalty=l2, solver=liblinear;, score=(train=0.684, test=0.687) total time=   2.0s\n",
      "[CV 5/5] END C=0.1, class_weight=balanced, max_iter=200, penalty=l2, solver=liblinear;, score=(train=0.686, test=0.684) total time=   2.0s\n",
      "[CV 1/5] END C=0.1, class_weight=balanced, max_iter=200, penalty=l2, solver=saga;, score=(train=0.487, test=0.486) total time=   6.2s\n",
      "[CV 2/5] END C=0.1, class_weight=balanced, max_iter=200, penalty=l2, solver=saga;, score=(train=0.486, test=0.481) total time=   6.3s\n",
      "[CV 3/5] END C=0.1, class_weight=balanced, max_iter=200, penalty=l2, solver=saga;, score=(train=0.482, test=0.481) total time=   6.3s\n",
      "[CV 4/5] END C=0.1, class_weight=balanced, max_iter=200, penalty=l2, solver=saga;, score=(train=0.470, test=0.477) total time=   6.2s\n",
      "[CV 5/5] END C=0.1, class_weight=balanced, max_iter=200, penalty=l2, solver=saga;, score=(train=0.464, test=0.463) total time=   6.3s\n",
      "[CV 1/5] END C=0.1, class_weight=balanced, max_iter=300, penalty=l1, solver=liblinear;, score=(train=0.687, test=0.686) total time=  23.6s\n",
      "[CV 2/5] END C=0.1, class_weight=balanced, max_iter=300, penalty=l1, solver=liblinear;, score=(train=0.684, test=0.684) total time=   6.4s\n",
      "[CV 3/5] END C=0.1, class_weight=balanced, max_iter=300, penalty=l1, solver=liblinear;, score=(train=0.687, test=0.687) total time=   2.9s\n",
      "[CV 4/5] END C=0.1, class_weight=balanced, max_iter=300, penalty=l1, solver=liblinear;, score=(train=0.684, test=0.688) total time=  15.3s\n",
      "[CV 5/5] END C=0.1, class_weight=balanced, max_iter=300, penalty=l1, solver=liblinear;, score=(train=0.686, test=0.684) total time=  29.7s\n",
      "[CV 1/5] END C=0.1, class_weight=balanced, max_iter=300, penalty=l1, solver=saga;, score=(train=0.488, test=0.487) total time=  12.1s\n",
      "[CV 2/5] END C=0.1, class_weight=balanced, max_iter=300, penalty=l1, solver=saga;, score=(train=0.485, test=0.481) total time=  12.2s\n",
      "[CV 3/5] END C=0.1, class_weight=balanced, max_iter=300, penalty=l1, solver=saga;, score=(train=0.484, test=0.482) total time=  12.0s\n",
      "[CV 4/5] END C=0.1, class_weight=balanced, max_iter=300, penalty=l1, solver=saga;, score=(train=0.470, test=0.475) total time=  12.2s\n",
      "[CV 5/5] END C=0.1, class_weight=balanced, max_iter=300, penalty=l1, solver=saga;, score=(train=0.466, test=0.464) total time=  12.3s\n",
      "[CV 1/5] END C=0.1, class_weight=balanced, max_iter=300, penalty=l2, solver=liblinear;, score=(train=0.686, test=0.685) total time=   1.7s\n",
      "[CV 2/5] END C=0.1, class_weight=balanced, max_iter=300, penalty=l2, solver=liblinear;, score=(train=0.684, test=0.683) total time=   1.8s\n",
      "[CV 3/5] END C=0.1, class_weight=balanced, max_iter=300, penalty=l2, solver=liblinear;, score=(train=0.687, test=0.686) total time=   1.9s\n",
      "[CV 4/5] END C=0.1, class_weight=balanced, max_iter=300, penalty=l2, solver=liblinear;, score=(train=0.684, test=0.687) total time=   2.0s\n",
      "[CV 5/5] END C=0.1, class_weight=balanced, max_iter=300, penalty=l2, solver=liblinear;, score=(train=0.686, test=0.684) total time=   2.0s\n",
      "[CV 1/5] END C=0.1, class_weight=balanced, max_iter=300, penalty=l2, solver=saga;, score=(train=0.488, test=0.487) total time=   9.4s\n",
      "[CV 2/5] END C=0.1, class_weight=balanced, max_iter=300, penalty=l2, solver=saga;, score=(train=0.486, test=0.481) total time=   9.3s\n",
      "[CV 3/5] END C=0.1, class_weight=balanced, max_iter=300, penalty=l2, solver=saga;, score=(train=0.484, test=0.481) total time=   9.3s\n",
      "[CV 4/5] END C=0.1, class_weight=balanced, max_iter=300, penalty=l2, solver=saga;, score=(train=0.470, test=0.475) total time=   9.4s\n",
      "[CV 5/5] END C=0.1, class_weight=balanced, max_iter=300, penalty=l2, solver=saga;, score=(train=0.466, test=0.464) total time=   9.3s\n",
      "[CV 1/5] END C=0.1, class_weight=balanced, max_iter=500, penalty=l1, solver=liblinear;, score=(train=0.687, test=0.686) total time=  23.0s\n",
      "[CV 2/5] END C=0.1, class_weight=balanced, max_iter=500, penalty=l1, solver=liblinear;, score=(train=0.684, test=0.684) total time=  22.4s\n",
      "[CV 3/5] END C=0.1, class_weight=balanced, max_iter=500, penalty=l1, solver=liblinear;, score=(train=0.687, test=0.687) total time=  23.5s\n",
      "[CV 4/5] END C=0.1, class_weight=balanced, max_iter=500, penalty=l1, solver=liblinear;, score=(train=0.684, test=0.688) total time=  26.0s\n",
      "[CV 5/5] END C=0.1, class_weight=balanced, max_iter=500, penalty=l1, solver=liblinear;, score=(train=0.686, test=0.684) total time=  22.3s\n",
      "[CV 1/5] END C=0.1, class_weight=balanced, max_iter=500, penalty=l1, solver=saga;, score=(train=0.488, test=0.491) total time=  20.2s\n",
      "[CV 2/5] END C=0.1, class_weight=balanced, max_iter=500, penalty=l1, solver=saga;, score=(train=0.484, test=0.480) total time=  20.2s\n",
      "[CV 3/5] END C=0.1, class_weight=balanced, max_iter=500, penalty=l1, solver=saga;, score=(train=0.486, test=0.484) total time=  20.1s\n",
      "[CV 4/5] END C=0.1, class_weight=balanced, max_iter=500, penalty=l1, solver=saga;, score=(train=0.468, test=0.473) total time=  20.0s\n",
      "[CV 5/5] END C=0.1, class_weight=balanced, max_iter=500, penalty=l1, solver=saga;, score=(train=0.474, test=0.473) total time=  20.1s\n",
      "[CV 1/5] END C=0.1, class_weight=balanced, max_iter=500, penalty=l2, solver=liblinear;, score=(train=0.686, test=0.685) total time=   1.7s\n",
      "[CV 2/5] END C=0.1, class_weight=balanced, max_iter=500, penalty=l2, solver=liblinear;, score=(train=0.684, test=0.683) total time=   1.7s\n",
      "[CV 3/5] END C=0.1, class_weight=balanced, max_iter=500, penalty=l2, solver=liblinear;, score=(train=0.687, test=0.686) total time=   1.9s\n",
      "[CV 4/5] END C=0.1, class_weight=balanced, max_iter=500, penalty=l2, solver=liblinear;, score=(train=0.684, test=0.687) total time=   2.0s\n",
      "[CV 5/5] END C=0.1, class_weight=balanced, max_iter=500, penalty=l2, solver=liblinear;, score=(train=0.686, test=0.684) total time=   2.0s\n",
      "[CV 1/5] END C=0.1, class_weight=balanced, max_iter=500, penalty=l2, solver=saga;, score=(train=0.488, test=0.491) total time=  15.6s\n",
      "[CV 2/5] END C=0.1, class_weight=balanced, max_iter=500, penalty=l2, solver=saga;, score=(train=0.484, test=0.479) total time=  15.5s\n",
      "[CV 3/5] END C=0.1, class_weight=balanced, max_iter=500, penalty=l2, solver=saga;, score=(train=0.486, test=0.484) total time=  15.6s\n",
      "[CV 4/5] END C=0.1, class_weight=balanced, max_iter=500, penalty=l2, solver=saga;, score=(train=0.468, test=0.472) total time=  15.6s\n",
      "[CV 5/5] END C=0.1, class_weight=balanced, max_iter=500, penalty=l2, solver=saga;, score=(train=0.473, test=0.472) total time=  15.4s\n",
      "[CV 1/5] END C=1, class_weight=balanced, max_iter=100, penalty=l1, solver=liblinear;, score=(train=0.687, test=0.686) total time=   6.1s\n",
      "[CV 2/5] END C=1, class_weight=balanced, max_iter=100, penalty=l1, solver=liblinear;, score=(train=0.684, test=0.684) total time=   4.8s\n",
      "[CV 3/5] END C=1, class_weight=balanced, max_iter=100, penalty=l1, solver=liblinear;, score=(train=0.687, test=0.687) total time=   5.2s\n",
      "[CV 4/5] END C=1, class_weight=balanced, max_iter=100, penalty=l1, solver=liblinear;, score=(train=0.684, test=0.688) total time=   5.2s\n",
      "[CV 5/5] END C=1, class_weight=balanced, max_iter=100, penalty=l1, solver=liblinear;, score=(train=0.687, test=0.685) total time=  12.0s\n",
      "[CV 1/5] END C=1, class_weight=balanced, max_iter=100, penalty=l1, solver=saga;, score=(train=0.487, test=0.482) total time=   4.1s\n",
      "[CV 2/5] END C=1, class_weight=balanced, max_iter=100, penalty=l1, solver=saga;, score=(train=0.483, test=0.482) total time=   4.2s\n",
      "[CV 3/5] END C=1, class_weight=balanced, max_iter=100, penalty=l1, solver=saga;, score=(train=0.479, test=0.482) total time=   4.6s\n",
      "[CV 4/5] END C=1, class_weight=balanced, max_iter=100, penalty=l1, solver=saga;, score=(train=0.462, test=0.467) total time=   4.3s\n",
      "[CV 5/5] END C=1, class_weight=balanced, max_iter=100, penalty=l1, solver=saga;, score=(train=0.457, test=0.453) total time=   4.1s\n",
      "[CV 1/5] END C=1, class_weight=balanced, max_iter=100, penalty=l2, solver=liblinear;, score=(train=0.688, test=0.686) total time=   1.5s\n",
      "[CV 2/5] END C=1, class_weight=balanced, max_iter=100, penalty=l2, solver=liblinear;, score=(train=0.684, test=0.683) total time=   1.7s\n",
      "[CV 3/5] END C=1, class_weight=balanced, max_iter=100, penalty=l2, solver=liblinear;, score=(train=0.686, test=0.687) total time=   1.9s\n",
      "[CV 4/5] END C=1, class_weight=balanced, max_iter=100, penalty=l2, solver=liblinear;, score=(train=0.684, test=0.688) total time=   1.7s\n",
      "[CV 5/5] END C=1, class_weight=balanced, max_iter=100, penalty=l2, solver=liblinear;, score=(train=0.686, test=0.684) total time=   2.0s\n",
      "[CV 1/5] END C=1, class_weight=balanced, max_iter=100, penalty=l2, solver=saga;, score=(train=0.486, test=0.482) total time=   3.2s\n",
      "[CV 2/5] END C=1, class_weight=balanced, max_iter=100, penalty=l2, solver=saga;, score=(train=0.483, test=0.480) total time=   3.1s\n",
      "[CV 3/5] END C=1, class_weight=balanced, max_iter=100, penalty=l2, solver=saga;, score=(train=0.478, test=0.480) total time=   3.2s\n",
      "[CV 4/5] END C=1, class_weight=balanced, max_iter=100, penalty=l2, solver=saga;, score=(train=0.462, test=0.467) total time=   3.2s\n",
      "[CV 5/5] END C=1, class_weight=balanced, max_iter=100, penalty=l2, solver=saga;, score=(train=0.456, test=0.452) total time=   3.2s\n",
      "[CV 1/5] END C=1, class_weight=balanced, max_iter=200, penalty=l1, solver=liblinear;, score=(train=0.687, test=0.686) total time=   9.5s\n",
      "[CV 2/5] END C=1, class_weight=balanced, max_iter=200, penalty=l1, solver=liblinear;, score=(train=0.684, test=0.684) total time=  14.3s\n",
      "[CV 3/5] END C=1, class_weight=balanced, max_iter=200, penalty=l1, solver=liblinear;, score=(train=0.687, test=0.687) total time=   5.5s\n",
      "[CV 4/5] END C=1, class_weight=balanced, max_iter=200, penalty=l1, solver=liblinear;, score=(train=0.684, test=0.688) total time=   4.0s\n",
      "[CV 5/5] END C=1, class_weight=balanced, max_iter=200, penalty=l1, solver=liblinear;, score=(train=0.687, test=0.685) total time=   5.4s\n",
      "[CV 1/5] END C=1, class_weight=balanced, max_iter=200, penalty=l1, solver=saga;, score=(train=0.487, test=0.486) total time=   8.1s\n",
      "[CV 2/5] END C=1, class_weight=balanced, max_iter=200, penalty=l1, solver=saga;, score=(train=0.485, test=0.481) total time=   8.1s\n",
      "[CV 3/5] END C=1, class_weight=balanced, max_iter=200, penalty=l1, solver=saga;, score=(train=0.481, test=0.481) total time=   8.1s\n",
      "[CV 4/5] END C=1, class_weight=balanced, max_iter=200, penalty=l1, solver=saga;, score=(train=0.469, test=0.476) total time=   8.1s\n",
      "[CV 5/5] END C=1, class_weight=balanced, max_iter=200, penalty=l1, solver=saga;, score=(train=0.465, test=0.463) total time=   8.1s\n",
      "[CV 1/5] END C=1, class_weight=balanced, max_iter=200, penalty=l2, solver=liblinear;, score=(train=0.688, test=0.686) total time=   1.6s\n",
      "[CV 2/5] END C=1, class_weight=balanced, max_iter=200, penalty=l2, solver=liblinear;, score=(train=0.684, test=0.683) total time=   1.7s\n",
      "[CV 3/5] END C=1, class_weight=balanced, max_iter=200, penalty=l2, solver=liblinear;, score=(train=0.686, test=0.687) total time=   1.9s\n",
      "[CV 4/5] END C=1, class_weight=balanced, max_iter=200, penalty=l2, solver=liblinear;, score=(train=0.684, test=0.688) total time=   1.7s\n",
      "[CV 5/5] END C=1, class_weight=balanced, max_iter=200, penalty=l2, solver=liblinear;, score=(train=0.686, test=0.684) total time=   2.0s\n",
      "[CV 1/5] END C=1, class_weight=balanced, max_iter=200, penalty=l2, solver=saga;, score=(train=0.488, test=0.486) total time=   6.2s\n",
      "[CV 2/5] END C=1, class_weight=balanced, max_iter=200, penalty=l2, solver=saga;, score=(train=0.486, test=0.481) total time=   6.3s\n",
      "[CV 3/5] END C=1, class_weight=balanced, max_iter=200, penalty=l2, solver=saga;, score=(train=0.481, test=0.481) total time=   6.2s\n",
      "[CV 4/5] END C=1, class_weight=balanced, max_iter=200, penalty=l2, solver=saga;, score=(train=0.469, test=0.477) total time=   6.3s\n",
      "[CV 5/5] END C=1, class_weight=balanced, max_iter=200, penalty=l2, solver=saga;, score=(train=0.465, test=0.464) total time=   6.2s\n",
      "[CV 1/5] END C=1, class_weight=balanced, max_iter=300, penalty=l1, solver=liblinear;, score=(train=0.687, test=0.686) total time=   8.2s\n",
      "[CV 2/5] END C=1, class_weight=balanced, max_iter=300, penalty=l1, solver=liblinear;, score=(train=0.684, test=0.684) total time=   5.5s\n",
      "[CV 3/5] END C=1, class_weight=balanced, max_iter=300, penalty=l1, solver=liblinear;, score=(train=0.687, test=0.687) total time=   4.0s\n",
      "[CV 4/5] END C=1, class_weight=balanced, max_iter=300, penalty=l1, solver=liblinear;, score=(train=0.684, test=0.687) total time=   8.2s\n",
      "[CV 5/5] END C=1, class_weight=balanced, max_iter=300, penalty=l1, solver=liblinear;, score=(train=0.687, test=0.685) total time=   4.8s\n",
      "[CV 1/5] END C=1, class_weight=balanced, max_iter=300, penalty=l1, solver=saga;, score=(train=0.488, test=0.487) total time=  12.1s\n",
      "[CV 2/5] END C=1, class_weight=balanced, max_iter=300, penalty=l1, solver=saga;, score=(train=0.486, test=0.481) total time=  12.2s\n",
      "[CV 3/5] END C=1, class_weight=balanced, max_iter=300, penalty=l1, solver=saga;, score=(train=0.484, test=0.482) total time=  12.1s\n",
      "[CV 4/5] END C=1, class_weight=balanced, max_iter=300, penalty=l1, solver=saga;, score=(train=0.470, test=0.475) total time=  12.1s\n",
      "[CV 5/5] END C=1, class_weight=balanced, max_iter=300, penalty=l1, solver=saga;, score=(train=0.466, test=0.464) total time=  12.1s\n",
      "[CV 1/5] END C=1, class_weight=balanced, max_iter=300, penalty=l2, solver=liblinear;, score=(train=0.688, test=0.686) total time=   1.5s\n",
      "[CV 2/5] END C=1, class_weight=balanced, max_iter=300, penalty=l2, solver=liblinear;, score=(train=0.684, test=0.683) total time=   1.7s\n",
      "[CV 3/5] END C=1, class_weight=balanced, max_iter=300, penalty=l2, solver=liblinear;, score=(train=0.686, test=0.687) total time=   1.9s\n",
      "[CV 4/5] END C=1, class_weight=balanced, max_iter=300, penalty=l2, solver=liblinear;, score=(train=0.684, test=0.688) total time=   1.7s\n",
      "[CV 5/5] END C=1, class_weight=balanced, max_iter=300, penalty=l2, solver=liblinear;, score=(train=0.686, test=0.684) total time=   2.0s\n",
      "[CV 1/5] END C=1, class_weight=balanced, max_iter=300, penalty=l2, solver=saga;, score=(train=0.488, test=0.488) total time=   9.3s\n",
      "[CV 2/5] END C=1, class_weight=balanced, max_iter=300, penalty=l2, solver=saga;, score=(train=0.489, test=0.485) total time=   9.3s\n",
      "[CV 3/5] END C=1, class_weight=balanced, max_iter=300, penalty=l2, solver=saga;, score=(train=0.484, test=0.482) total time=   9.4s\n",
      "[CV 4/5] END C=1, class_weight=balanced, max_iter=300, penalty=l2, solver=saga;, score=(train=0.470, test=0.475) total time=   9.4s\n",
      "[CV 5/5] END C=1, class_weight=balanced, max_iter=300, penalty=l2, solver=saga;, score=(train=0.467, test=0.464) total time=   9.4s\n",
      "[CV 1/5] END C=1, class_weight=balanced, max_iter=500, penalty=l1, solver=liblinear;, score=(train=0.687, test=0.686) total time=   4.4s\n",
      "[CV 2/5] END C=1, class_weight=balanced, max_iter=500, penalty=l1, solver=liblinear;, score=(train=0.684, test=0.684) total time=   7.0s\n",
      "[CV 3/5] END C=1, class_weight=balanced, max_iter=500, penalty=l1, solver=liblinear;, score=(train=0.687, test=0.687) total time=   3.9s\n",
      "[CV 4/5] END C=1, class_weight=balanced, max_iter=500, penalty=l1, solver=liblinear;, score=(train=0.684, test=0.688) total time=   3.0s\n",
      "[CV 5/5] END C=1, class_weight=balanced, max_iter=500, penalty=l1, solver=liblinear;, score=(train=0.687, test=0.685) total time=   7.3s\n",
      "[CV 1/5] END C=1, class_weight=balanced, max_iter=500, penalty=l1, solver=saga;, score=(train=0.488, test=0.491) total time=  20.1s\n",
      "[CV 2/5] END C=1, class_weight=balanced, max_iter=500, penalty=l1, solver=saga;, score=(train=0.484, test=0.480) total time=  20.3s\n",
      "[CV 3/5] END C=1, class_weight=balanced, max_iter=500, penalty=l1, solver=saga;, score=(train=0.486, test=0.484) total time=  20.2s\n",
      "[CV 4/5] END C=1, class_weight=balanced, max_iter=500, penalty=l1, solver=saga;, score=(train=0.468, test=0.472) total time=  20.1s\n",
      "[CV 5/5] END C=1, class_weight=balanced, max_iter=500, penalty=l1, solver=saga;, score=(train=0.473, test=0.472) total time=  20.2s\n",
      "[CV 1/5] END C=1, class_weight=balanced, max_iter=500, penalty=l2, solver=liblinear;, score=(train=0.688, test=0.686) total time=   1.6s\n",
      "[CV 2/5] END C=1, class_weight=balanced, max_iter=500, penalty=l2, solver=liblinear;, score=(train=0.684, test=0.683) total time=   1.8s\n",
      "[CV 3/5] END C=1, class_weight=balanced, max_iter=500, penalty=l2, solver=liblinear;, score=(train=0.686, test=0.687) total time=   1.9s\n",
      "[CV 4/5] END C=1, class_weight=balanced, max_iter=500, penalty=l2, solver=liblinear;, score=(train=0.684, test=0.688) total time=   1.7s\n",
      "[CV 5/5] END C=1, class_weight=balanced, max_iter=500, penalty=l2, solver=liblinear;, score=(train=0.686, test=0.684) total time=   2.0s\n",
      "[CV 1/5] END C=1, class_weight=balanced, max_iter=500, penalty=l2, solver=saga;, score=(train=0.488, test=0.491) total time=  15.5s\n",
      "[CV 2/5] END C=1, class_weight=balanced, max_iter=500, penalty=l2, solver=saga;, score=(train=0.484, test=0.479) total time=  15.5s\n",
      "[CV 3/5] END C=1, class_weight=balanced, max_iter=500, penalty=l2, solver=saga;, score=(train=0.486, test=0.484) total time=  15.5s\n",
      "[CV 4/5] END C=1, class_weight=balanced, max_iter=500, penalty=l2, solver=saga;, score=(train=0.468, test=0.472) total time=  15.6s\n",
      "[CV 5/5] END C=1, class_weight=balanced, max_iter=500, penalty=l2, solver=saga;, score=(train=0.473, test=0.472) total time=  15.5s\n",
      "[CV 1/5] END C=10, class_weight=balanced, max_iter=100, penalty=l1, solver=liblinear;, score=(train=0.687, test=0.686) total time=   6.1s\n",
      "[CV 2/5] END C=10, class_weight=balanced, max_iter=100, penalty=l1, solver=liblinear;, score=(train=0.684, test=0.684) total time=   6.6s\n",
      "[CV 3/5] END C=10, class_weight=balanced, max_iter=100, penalty=l1, solver=liblinear;, score=(train=0.687, test=0.687) total time=   4.0s\n",
      "[CV 4/5] END C=10, class_weight=balanced, max_iter=100, penalty=l1, solver=liblinear;, score=(train=0.685, test=0.688) total time=   7.6s\n",
      "[CV 5/5] END C=10, class_weight=balanced, max_iter=100, penalty=l1, solver=liblinear;, score=(train=0.687, test=0.685) total time=   4.4s\n",
      "[CV 1/5] END C=10, class_weight=balanced, max_iter=100, penalty=l1, solver=saga;, score=(train=0.486, test=0.482) total time=   4.1s\n",
      "[CV 2/5] END C=10, class_weight=balanced, max_iter=100, penalty=l1, solver=saga;, score=(train=0.483, test=0.481) total time=   4.1s\n",
      "[CV 3/5] END C=10, class_weight=balanced, max_iter=100, penalty=l1, solver=saga;, score=(train=0.478, test=0.481) total time=   4.1s\n",
      "[CV 4/5] END C=10, class_weight=balanced, max_iter=100, penalty=l1, solver=saga;, score=(train=0.462, test=0.467) total time=   4.1s\n",
      "[CV 5/5] END C=10, class_weight=balanced, max_iter=100, penalty=l1, solver=saga;, score=(train=0.455, test=0.451) total time=   4.1s\n",
      "[CV 1/5] END C=10, class_weight=balanced, max_iter=100, penalty=l2, solver=liblinear;, score=(train=0.687, test=0.686) total time=   2.3s\n",
      "[CV 2/5] END C=10, class_weight=balanced, max_iter=100, penalty=l2, solver=liblinear;, score=(train=0.685, test=0.683) total time=   1.7s\n",
      "[CV 3/5] END C=10, class_weight=balanced, max_iter=100, penalty=l2, solver=liblinear;, score=(train=0.686, test=0.686) total time=   1.6s\n",
      "[CV 4/5] END C=10, class_weight=balanced, max_iter=100, penalty=l2, solver=liblinear;, score=(train=0.684, test=0.688) total time=   1.8s\n",
      "[CV 5/5] END C=10, class_weight=balanced, max_iter=100, penalty=l2, solver=liblinear;, score=(train=0.686, test=0.685) total time=   2.0s\n",
      "[CV 1/5] END C=10, class_weight=balanced, max_iter=100, penalty=l2, solver=saga;, score=(train=0.486, test=0.482) total time=   3.2s\n",
      "[CV 2/5] END C=10, class_weight=balanced, max_iter=100, penalty=l2, solver=saga;, score=(train=0.483, test=0.480) total time=   3.1s\n",
      "[CV 3/5] END C=10, class_weight=balanced, max_iter=100, penalty=l2, solver=saga;, score=(train=0.479, test=0.481) total time=   3.2s\n",
      "[CV 4/5] END C=10, class_weight=balanced, max_iter=100, penalty=l2, solver=saga;, score=(train=0.462, test=0.466) total time=   3.2s\n",
      "[CV 5/5] END C=10, class_weight=balanced, max_iter=100, penalty=l2, solver=saga;, score=(train=0.454, test=0.449) total time=   3.1s\n",
      "[CV 1/5] END C=10, class_weight=balanced, max_iter=200, penalty=l1, solver=liblinear;, score=(train=0.687, test=0.686) total time=   7.0s\n",
      "[CV 2/5] END C=10, class_weight=balanced, max_iter=200, penalty=l1, solver=liblinear;, score=(train=0.684, test=0.684) total time=   3.8s\n",
      "[CV 3/5] END C=10, class_weight=balanced, max_iter=200, penalty=l1, solver=liblinear;, score=(train=0.687, test=0.687) total time=   5.1s\n",
      "[CV 4/5] END C=10, class_weight=balanced, max_iter=200, penalty=l1, solver=liblinear;, score=(train=0.685, test=0.688) total time=   6.4s\n",
      "[CV 5/5] END C=10, class_weight=balanced, max_iter=200, penalty=l1, solver=liblinear;, score=(train=0.687, test=0.685) total time=   8.6s\n",
      "[CV 1/5] END C=10, class_weight=balanced, max_iter=200, penalty=l1, solver=saga;, score=(train=0.488, test=0.486) total time=   8.1s\n",
      "[CV 2/5] END C=10, class_weight=balanced, max_iter=200, penalty=l1, solver=saga;, score=(train=0.486, test=0.481) total time=   8.1s\n",
      "[CV 3/5] END C=10, class_weight=balanced, max_iter=200, penalty=l1, solver=saga;, score=(train=0.482, test=0.481) total time=   8.1s\n",
      "[CV 4/5] END C=10, class_weight=balanced, max_iter=200, penalty=l1, solver=saga;, score=(train=0.469, test=0.476) total time=   8.1s\n",
      "[CV 5/5] END C=10, class_weight=balanced, max_iter=200, penalty=l1, solver=saga;, score=(train=0.465, test=0.464) total time=   8.1s\n",
      "[CV 1/5] END C=10, class_weight=balanced, max_iter=200, penalty=l2, solver=liblinear;, score=(train=0.687, test=0.686) total time=   2.3s\n",
      "[CV 2/5] END C=10, class_weight=balanced, max_iter=200, penalty=l2, solver=liblinear;, score=(train=0.685, test=0.683) total time=   1.7s\n",
      "[CV 3/5] END C=10, class_weight=balanced, max_iter=200, penalty=l2, solver=liblinear;, score=(train=0.686, test=0.686) total time=   1.6s\n",
      "[CV 4/5] END C=10, class_weight=balanced, max_iter=200, penalty=l2, solver=liblinear;, score=(train=0.684, test=0.688) total time=   1.8s\n",
      "[CV 5/5] END C=10, class_weight=balanced, max_iter=200, penalty=l2, solver=liblinear;, score=(train=0.686, test=0.685) total time=   2.0s\n",
      "[CV 1/5] END C=10, class_weight=balanced, max_iter=200, penalty=l2, solver=saga;, score=(train=0.487, test=0.486) total time=   6.2s\n",
      "[CV 2/5] END C=10, class_weight=balanced, max_iter=200, penalty=l2, solver=saga;, score=(train=0.485, test=0.480) total time=   6.3s\n",
      "[CV 3/5] END C=10, class_weight=balanced, max_iter=200, penalty=l2, solver=saga;, score=(train=0.481, test=0.481) total time=   6.2s\n",
      "[CV 4/5] END C=10, class_weight=balanced, max_iter=200, penalty=l2, solver=saga;, score=(train=0.469, test=0.476) total time=   6.3s\n",
      "[CV 5/5] END C=10, class_weight=balanced, max_iter=200, penalty=l2, solver=saga;, score=(train=0.465, test=0.463) total time=   6.2s\n",
      "[CV 1/5] END C=10, class_weight=balanced, max_iter=300, penalty=l1, solver=liblinear;, score=(train=0.687, test=0.686) total time=   4.9s\n",
      "[CV 2/5] END C=10, class_weight=balanced, max_iter=300, penalty=l1, solver=liblinear;, score=(train=0.684, test=0.684) total time=   7.1s\n",
      "[CV 3/5] END C=10, class_weight=balanced, max_iter=300, penalty=l1, solver=liblinear;, score=(train=0.687, test=0.687) total time=   5.7s\n",
      "[CV 4/5] END C=10, class_weight=balanced, max_iter=300, penalty=l1, solver=liblinear;, score=(train=0.685, test=0.688) total time=   5.5s\n",
      "[CV 5/5] END C=10, class_weight=balanced, max_iter=300, penalty=l1, solver=liblinear;, score=(train=0.687, test=0.685) total time=   5.1s\n",
      "[CV 1/5] END C=10, class_weight=balanced, max_iter=300, penalty=l1, solver=saga;, score=(train=0.488, test=0.487) total time=  12.0s\n",
      "[CV 2/5] END C=10, class_weight=balanced, max_iter=300, penalty=l1, solver=saga;, score=(train=0.486, test=0.481) total time=  12.1s\n",
      "[CV 3/5] END C=10, class_weight=balanced, max_iter=300, penalty=l1, solver=saga;, score=(train=0.484, test=0.482) total time=  12.1s\n",
      "[CV 4/5] END C=10, class_weight=balanced, max_iter=300, penalty=l1, solver=saga;, score=(train=0.470, test=0.475) total time=  12.1s\n",
      "[CV 5/5] END C=10, class_weight=balanced, max_iter=300, penalty=l1, solver=saga;, score=(train=0.467, test=0.464) total time=  12.2s\n",
      "[CV 1/5] END C=10, class_weight=balanced, max_iter=300, penalty=l2, solver=liblinear;, score=(train=0.687, test=0.686) total time=   2.3s\n",
      "[CV 2/5] END C=10, class_weight=balanced, max_iter=300, penalty=l2, solver=liblinear;, score=(train=0.685, test=0.683) total time=   1.7s\n",
      "[CV 3/5] END C=10, class_weight=balanced, max_iter=300, penalty=l2, solver=liblinear;, score=(train=0.686, test=0.686) total time=   1.6s\n",
      "[CV 4/5] END C=10, class_weight=balanced, max_iter=300, penalty=l2, solver=liblinear;, score=(train=0.684, test=0.688) total time=   1.8s\n",
      "[CV 5/5] END C=10, class_weight=balanced, max_iter=300, penalty=l2, solver=liblinear;, score=(train=0.686, test=0.685) total time=   2.0s\n",
      "[CV 1/5] END C=10, class_weight=balanced, max_iter=300, penalty=l2, solver=saga;, score=(train=0.488, test=0.487) total time=   9.4s\n",
      "[CV 2/5] END C=10, class_weight=balanced, max_iter=300, penalty=l2, solver=saga;, score=(train=0.485, test=0.481) total time=   9.3s\n",
      "[CV 3/5] END C=10, class_weight=balanced, max_iter=300, penalty=l2, solver=saga;, score=(train=0.483, test=0.481) total time=   9.3s\n",
      "[CV 4/5] END C=10, class_weight=balanced, max_iter=300, penalty=l2, solver=saga;, score=(train=0.470, test=0.475) total time=   9.3s\n",
      "[CV 5/5] END C=10, class_weight=balanced, max_iter=300, penalty=l2, solver=saga;, score=(train=0.467, test=0.464) total time=   9.3s\n",
      "[CV 1/5] END C=10, class_weight=balanced, max_iter=500, penalty=l1, solver=liblinear;, score=(train=0.687, test=0.686) total time=   6.4s\n",
      "[CV 2/5] END C=10, class_weight=balanced, max_iter=500, penalty=l1, solver=liblinear;, score=(train=0.684, test=0.684) total time=   4.5s\n",
      "[CV 3/5] END C=10, class_weight=balanced, max_iter=500, penalty=l1, solver=liblinear;, score=(train=0.687, test=0.687) total time=   6.7s\n",
      "[CV 4/5] END C=10, class_weight=balanced, max_iter=500, penalty=l1, solver=liblinear;, score=(train=0.685, test=0.688) total time=   6.4s\n",
      "[CV 5/5] END C=10, class_weight=balanced, max_iter=500, penalty=l1, solver=liblinear;, score=(train=0.687, test=0.685) total time=   5.7s\n",
      "[CV 1/5] END C=10, class_weight=balanced, max_iter=500, penalty=l1, solver=saga;, score=(train=0.488, test=0.491) total time=  20.3s\n",
      "[CV 2/5] END C=10, class_weight=balanced, max_iter=500, penalty=l1, solver=saga;, score=(train=0.484, test=0.480) total time=  20.0s\n",
      "[CV 3/5] END C=10, class_weight=balanced, max_iter=500, penalty=l1, solver=saga;, score=(train=0.487, test=0.485) total time=  20.3s\n",
      "[CV 4/5] END C=10, class_weight=balanced, max_iter=500, penalty=l1, solver=saga;, score=(train=0.468, test=0.472) total time=  20.2s\n",
      "[CV 5/5] END C=10, class_weight=balanced, max_iter=500, penalty=l1, solver=saga;, score=(train=0.473, test=0.472) total time=  20.2s\n",
      "[CV 1/5] END C=10, class_weight=balanced, max_iter=500, penalty=l2, solver=liblinear;, score=(train=0.687, test=0.686) total time=   2.3s\n",
      "[CV 2/5] END C=10, class_weight=balanced, max_iter=500, penalty=l2, solver=liblinear;, score=(train=0.685, test=0.683) total time=   1.7s\n",
      "[CV 3/5] END C=10, class_weight=balanced, max_iter=500, penalty=l2, solver=liblinear;, score=(train=0.686, test=0.686) total time=   1.6s\n",
      "[CV 4/5] END C=10, class_weight=balanced, max_iter=500, penalty=l2, solver=liblinear;, score=(train=0.684, test=0.688) total time=   1.8s\n",
      "[CV 5/5] END C=10, class_weight=balanced, max_iter=500, penalty=l2, solver=liblinear;, score=(train=0.686, test=0.685) total time=   2.0s\n",
      "[CV 1/5] END C=10, class_weight=balanced, max_iter=500, penalty=l2, solver=saga;, score=(train=0.488, test=0.491) total time=  15.5s\n",
      "[CV 2/5] END C=10, class_weight=balanced, max_iter=500, penalty=l2, solver=saga;, score=(train=0.484, test=0.479) total time=  15.9s\n",
      "[CV 3/5] END C=10, class_weight=balanced, max_iter=500, penalty=l2, solver=saga;, score=(train=0.486, test=0.484) total time=  16.3s\n",
      "[CV 4/5] END C=10, class_weight=balanced, max_iter=500, penalty=l2, solver=saga;, score=(train=0.468, test=0.472) total time=  16.2s\n",
      "[CV 5/5] END C=10, class_weight=balanced, max_iter=500, penalty=l2, solver=saga;, score=(train=0.473, test=0.472) total time=  15.4s\n",
      "The best parameters are {'C': 1, 'class_weight': 'balanced', 'max_iter': 500, 'penalty': 'l1', 'solver': 'liblinear'} with a score of 0.69\n",
      "CPU times: total: 40min 55s\n",
      "Wall time: 40min 55s\n"
     ]
    }
   ],
   "source": [
    "%%time\n",
    "# Create the random grid\n",
    "param_grid = {\n",
    "    'penalty': ['l1', 'l2'],  # Використовуйте тільки один вид регуляризації\n",
    "    'C': [0.01, 0.1, 1, 10],  # Зменште кількість значень\n",
    "    'solver': ['liblinear', 'saga'],  # Використовуйте лише сумісні солвери\n",
    "    'max_iter': [100, 200, 300, 500],  # Зменшіть максимальну кількість ітерацій\n",
    "    'class_weight': ['balanced'],  # Ваги класів\n",
    "}\n",
    "\n",
    "\n",
    "lr = LogisticRegression(class_weight='balanced')\n",
    "\n",
    "grid = GridSearchCV(estimator=lr, \n",
    "                    param_grid=param_grid, \n",
    "                    scoring='accuracy', \n",
    "                    cv=5,\n",
    "                    verbose=3,\n",
    "                    return_train_score=True)\n",
    "\n",
    "grid.fit(X_train, y_train)\n",
    "\n",
    "print(\"The best parameters are %s with a score of %0.2f\"\n",
    "      % (grid.best_params_, grid.best_score_))"
   ]
  },
  {
   "cell_type": "code",
   "execution_count": 33,
   "metadata": {
    "colab": {
     "base_uri": "https://localhost:8080/",
     "height": 1000
    },
    "executionInfo": {
     "elapsed": 20,
     "status": "ok",
     "timestamp": 1678577202682,
     "user": {
      "displayName": "Ольга Нарушинська",
      "userId": "17109802701742785659"
     },
     "user_tz": -120
    },
    "id": "OHmrkMMsxrYN",
    "outputId": "3381c6c5-5cf2-40b2-b411-1665622e00d3",
    "scrolled": true
   },
   "outputs": [
    {
     "data": {
      "text/html": [
       "<div>\n",
       "<style scoped>\n",
       "    .dataframe tbody tr th:only-of-type {\n",
       "        vertical-align: middle;\n",
       "    }\n",
       "\n",
       "    .dataframe tbody tr th {\n",
       "        vertical-align: top;\n",
       "    }\n",
       "\n",
       "    .dataframe thead th {\n",
       "        text-align: right;\n",
       "    }\n",
       "</style>\n",
       "<table border=\"1\" class=\"dataframe\">\n",
       "  <thead>\n",
       "    <tr style=\"text-align: right;\">\n",
       "      <th></th>\n",
       "      <th>C</th>\n",
       "      <th>class_weight</th>\n",
       "      <th>max_iter</th>\n",
       "      <th>penalty</th>\n",
       "      <th>solver</th>\n",
       "      <th>precision</th>\n",
       "    </tr>\n",
       "  </thead>\n",
       "  <tbody>\n",
       "    <tr>\n",
       "      <th>0</th>\n",
       "      <td>0.1</td>\n",
       "      <td>balanced</td>\n",
       "      <td>100</td>\n",
       "      <td>l2</td>\n",
       "      <td>liblinear</td>\n",
       "      <td>0.684949</td>\n",
       "    </tr>\n",
       "    <tr>\n",
       "      <th>1</th>\n",
       "      <td>0.1</td>\n",
       "      <td>balanced</td>\n",
       "      <td>100</td>\n",
       "      <td>l2</td>\n",
       "      <td>saga</td>\n",
       "      <td>0.472805</td>\n",
       "    </tr>\n",
       "    <tr>\n",
       "      <th>2</th>\n",
       "      <td>0.1</td>\n",
       "      <td>balanced</td>\n",
       "      <td>200</td>\n",
       "      <td>l2</td>\n",
       "      <td>liblinear</td>\n",
       "      <td>0.684949</td>\n",
       "    </tr>\n",
       "    <tr>\n",
       "      <th>3</th>\n",
       "      <td>0.1</td>\n",
       "      <td>balanced</td>\n",
       "      <td>200</td>\n",
       "      <td>l2</td>\n",
       "      <td>saga</td>\n",
       "      <td>0.477410</td>\n",
       "    </tr>\n",
       "    <tr>\n",
       "      <th>4</th>\n",
       "      <td>1.0</td>\n",
       "      <td>balanced</td>\n",
       "      <td>100</td>\n",
       "      <td>l2</td>\n",
       "      <td>liblinear</td>\n",
       "      <td>0.685504</td>\n",
       "    </tr>\n",
       "    <tr>\n",
       "      <th>5</th>\n",
       "      <td>1.0</td>\n",
       "      <td>balanced</td>\n",
       "      <td>100</td>\n",
       "      <td>l2</td>\n",
       "      <td>saga</td>\n",
       "      <td>0.471687</td>\n",
       "    </tr>\n",
       "    <tr>\n",
       "      <th>6</th>\n",
       "      <td>1.0</td>\n",
       "      <td>balanced</td>\n",
       "      <td>200</td>\n",
       "      <td>l2</td>\n",
       "      <td>liblinear</td>\n",
       "      <td>0.685504</td>\n",
       "    </tr>\n",
       "    <tr>\n",
       "      <th>7</th>\n",
       "      <td>1.0</td>\n",
       "      <td>balanced</td>\n",
       "      <td>200</td>\n",
       "      <td>l2</td>\n",
       "      <td>saga</td>\n",
       "      <td>0.477792</td>\n",
       "    </tr>\n",
       "  </tbody>\n",
       "</table>\n",
       "</div>"
      ],
      "text/plain": [
       "     C class_weight  max_iter penalty     solver  precision\n",
       "0  0.1     balanced       100      l2  liblinear   0.684949\n",
       "1  0.1     balanced       100      l2       saga   0.472805\n",
       "2  0.1     balanced       200      l2  liblinear   0.684949\n",
       "3  0.1     balanced       200      l2       saga   0.477410\n",
       "4  1.0     balanced       100      l2  liblinear   0.685504\n",
       "5  1.0     balanced       100      l2       saga   0.471687\n",
       "6  1.0     balanced       200      l2  liblinear   0.685504\n",
       "7  1.0     balanced       200      l2       saga   0.477792"
      ]
     },
     "execution_count": 33,
     "metadata": {},
     "output_type": "execute_result"
    }
   ],
   "source": [
    "grid_results = pd.concat([pd.DataFrame(grid.cv_results_[\"params\"]),\n",
    "                          pd.DataFrame(grid.cv_results_[\"mean_test_score\"], \n",
    "                          columns=[\"precision\"])],\n",
    "                          axis=1)\n",
    "\n",
    "grid_results"
   ]
  },
  {
   "cell_type": "code",
   "execution_count": 34,
   "metadata": {
    "colab": {
     "base_uri": "https://localhost:8080/"
    },
    "executionInfo": {
     "elapsed": 11,
     "status": "ok",
     "timestamp": 1678577202682,
     "user": {
      "displayName": "Ольга Нарушинська",
      "userId": "17109802701742785659"
     },
     "user_tz": -120
    },
    "id": "FDnU82oSxrYN",
    "outputId": "92d775d7-d5ed-41a4-ea80-2b4515de4d72"
   },
   "outputs": [
    {
     "data": {
      "text/plain": [
       "Index(['C', 'class_weight', 'max_iter', 'penalty', 'solver', 'precision'], dtype='object')"
      ]
     },
     "execution_count": 34,
     "metadata": {},
     "output_type": "execute_result"
    }
   ],
   "source": [
    "grid_results.columns"
   ]
  }
 ],
 "metadata": {
  "colab": {
   "provenance": []
  },
  "kernelspec": {
   "display_name": "Python 3 (ipykernel)",
   "language": "python",
   "name": "python3"
  },
  "language_info": {
   "codemirror_mode": {
    "name": "ipython",
    "version": 3
   },
   "file_extension": ".py",
   "mimetype": "text/x-python",
   "name": "python",
   "nbconvert_exporter": "python",
   "pygments_lexer": "ipython3",
   "version": "3.12.2"
  },
  "vscode": {
   "interpreter": {
    "hash": "7172106abc92638029cd8423ee47f98336618e2f42ec4b056b806f415585df73"
   }
  }
 },
 "nbformat": 4,
 "nbformat_minor": 4
}
